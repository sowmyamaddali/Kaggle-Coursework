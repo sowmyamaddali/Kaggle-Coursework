{
 "cells": [
  {
   "cell_type": "markdown",
   "id": "8b8e7ed2",
   "metadata": {
    "papermill": {
     "duration": 0.008222,
     "end_time": "2024-04-09T02:49:47.969507",
     "exception": false,
     "start_time": "2024-04-09T02:49:47.961285",
     "status": "completed"
    },
    "tags": []
   },
   "source": [
    "**This notebook is an exercise in the [SQL](https://www.kaggle.com/learn/intro-to-sql) course.  You can reference the tutorial at [this link](https://www.kaggle.com/dansbecker/getting-started-with-sql-and-bigquery).**\n",
    "\n",
    "---\n"
   ]
  },
  {
   "cell_type": "markdown",
   "id": "95d31980",
   "metadata": {
    "papermill": {
     "duration": 0.006812,
     "end_time": "2024-04-09T02:49:47.983741",
     "exception": false,
     "start_time": "2024-04-09T02:49:47.976929",
     "status": "completed"
    },
    "tags": []
   },
   "source": [
    "# Introduction\n",
    "\n",
    "The first test of your new data exploration skills uses data describing crime in the city of Chicago.\n",
    "\n",
    "Before you get started, run the following cell. It sets up the automated feedback system to review your answers."
   ]
  },
  {
   "cell_type": "code",
   "execution_count": 1,
   "id": "780e803d",
   "metadata": {
    "execution": {
     "iopub.execute_input": "2024-04-09T02:49:48.000816Z",
     "iopub.status.busy": "2024-04-09T02:49:48.000351Z",
     "iopub.status.idle": "2024-04-09T02:49:56.617258Z",
     "shell.execute_reply": "2024-04-09T02:49:56.615744Z"
    },
    "papermill": {
     "duration": 8.629334,
     "end_time": "2024-04-09T02:49:56.620372",
     "exception": false,
     "start_time": "2024-04-09T02:49:47.991038",
     "status": "completed"
    },
    "tags": []
   },
   "outputs": [
    {
     "name": "stdout",
     "output_type": "stream",
     "text": [
      "Using Kaggle's public dataset BigQuery integration.\n",
      "Setup Complete\n"
     ]
    }
   ],
   "source": [
    "# Set up feedack system\n",
    "from learntools.core import binder\n",
    "binder.bind(globals())\n",
    "from learntools.sql.ex1 import *\n",
    "print(\"Setup Complete\")"
   ]
  },
  {
   "cell_type": "markdown",
   "id": "1e5d91e6",
   "metadata": {
    "papermill": {
     "duration": 0.007109,
     "end_time": "2024-04-09T02:49:56.635155",
     "exception": false,
     "start_time": "2024-04-09T02:49:56.628046",
     "status": "completed"
    },
    "tags": []
   },
   "source": [
    "Use the next code cell to fetch the dataset."
   ]
  },
  {
   "cell_type": "code",
   "execution_count": 2,
   "id": "bca6321a",
   "metadata": {
    "execution": {
     "iopub.execute_input": "2024-04-09T02:49:56.652262Z",
     "iopub.status.busy": "2024-04-09T02:49:56.651500Z",
     "iopub.status.idle": "2024-04-09T02:49:57.290080Z",
     "shell.execute_reply": "2024-04-09T02:49:57.288838Z"
    },
    "papermill": {
     "duration": 0.650668,
     "end_time": "2024-04-09T02:49:57.293236",
     "exception": false,
     "start_time": "2024-04-09T02:49:56.642568",
     "status": "completed"
    },
    "tags": []
   },
   "outputs": [
    {
     "name": "stdout",
     "output_type": "stream",
     "text": [
      "Using Kaggle's public dataset BigQuery integration.\n"
     ]
    }
   ],
   "source": [
    "from google.cloud import bigquery\n",
    "\n",
    "# Create a \"Client\" object\n",
    "client = bigquery.Client()\n",
    "\n",
    "# Construct a reference to the \"chicago_crime\" dataset\n",
    "dataset_ref = client.dataset(\"chicago_crime\", project=\"bigquery-public-data\")\n",
    "\n",
    "# API request - fetch the dataset\n",
    "dataset = client.get_dataset(dataset_ref)"
   ]
  },
  {
   "cell_type": "markdown",
   "id": "b4004554",
   "metadata": {
    "papermill": {
     "duration": 0.00729,
     "end_time": "2024-04-09T02:49:57.308346",
     "exception": false,
     "start_time": "2024-04-09T02:49:57.301056",
     "status": "completed"
    },
    "tags": []
   },
   "source": [
    "# Exercises\n",
    "\n",
    "### 1) Count tables in the dataset\n",
    "\n",
    "How many tables are in the Chicago Crime dataset?"
   ]
  },
  {
   "cell_type": "code",
   "execution_count": 3,
   "id": "7327e1b7",
   "metadata": {
    "execution": {
     "iopub.execute_input": "2024-04-09T02:49:57.325512Z",
     "iopub.status.busy": "2024-04-09T02:49:57.325085Z",
     "iopub.status.idle": "2024-04-09T02:49:57.998383Z",
     "shell.execute_reply": "2024-04-09T02:49:57.997211Z"
    },
    "papermill": {
     "duration": 0.685237,
     "end_time": "2024-04-09T02:49:58.001218",
     "exception": false,
     "start_time": "2024-04-09T02:49:57.315981",
     "status": "completed"
    },
    "tags": []
   },
   "outputs": [],
   "source": [
    "# Write the code you need here to figure out the answer\n",
    "tables = list(client.list_tables(dataset))"
   ]
  },
  {
   "cell_type": "code",
   "execution_count": 4,
   "id": "9c31aa10",
   "metadata": {
    "execution": {
     "iopub.execute_input": "2024-04-09T02:49:58.018491Z",
     "iopub.status.busy": "2024-04-09T02:49:58.018086Z",
     "iopub.status.idle": "2024-04-09T02:49:58.029348Z",
     "shell.execute_reply": "2024-04-09T02:49:58.027797Z"
    },
    "papermill": {
     "duration": 0.023234,
     "end_time": "2024-04-09T02:49:58.032094",
     "exception": false,
     "start_time": "2024-04-09T02:49:58.008860",
     "status": "completed"
    },
    "tags": []
   },
   "outputs": [
    {
     "data": {
      "application/javascript": [
       "parent.postMessage({\"jupyterEvent\": \"custom.exercise_interaction\", \"data\": {\"outcomeType\": 1, \"valueTowardsCompletion\": 0.3333333333333333, \"interactionType\": 1, \"questionType\": 1, \"questionId\": \"1_CountTables\", \"learnToolsVersion\": \"0.3.4\", \"failureMessage\": \"\", \"exceptionClass\": \"\", \"trace\": \"\"}}, \"*\")"
      ],
      "text/plain": [
       "<IPython.core.display.Javascript object>"
      ]
     },
     "metadata": {},
     "output_type": "display_data"
    },
    {
     "data": {
      "text/markdown": [
       "<span style=\"color:#33cc33\">Correct</span>"
      ],
      "text/plain": [
       "Correct"
      ]
     },
     "metadata": {},
     "output_type": "display_data"
    }
   ],
   "source": [
    "num_tables = len(tables)  # Store the answer as num_tables and then run this cell\n",
    "\n",
    "# Check your answer\n",
    "q_1.check()"
   ]
  },
  {
   "cell_type": "markdown",
   "id": "17d3c78e",
   "metadata": {
    "papermill": {
     "duration": 0.007958,
     "end_time": "2024-04-09T02:49:58.048115",
     "exception": false,
     "start_time": "2024-04-09T02:49:58.040157",
     "status": "completed"
    },
    "tags": []
   },
   "source": [
    "For a hint or the solution, uncomment the appropriate line below."
   ]
  },
  {
   "cell_type": "code",
   "execution_count": 5,
   "id": "da683f11",
   "metadata": {
    "execution": {
     "iopub.execute_input": "2024-04-09T02:49:58.071496Z",
     "iopub.status.busy": "2024-04-09T02:49:58.070664Z",
     "iopub.status.idle": "2024-04-09T02:49:58.076061Z",
     "shell.execute_reply": "2024-04-09T02:49:58.074379Z"
    },
    "papermill": {
     "duration": 0.019305,
     "end_time": "2024-04-09T02:49:58.079291",
     "exception": false,
     "start_time": "2024-04-09T02:49:58.059986",
     "status": "completed"
    },
    "tags": []
   },
   "outputs": [],
   "source": [
    "#q_1.hint()\n",
    "#q_1.solution()"
   ]
  },
  {
   "cell_type": "markdown",
   "id": "832f2702",
   "metadata": {
    "papermill": {
     "duration": 0.008177,
     "end_time": "2024-04-09T02:49:58.095852",
     "exception": false,
     "start_time": "2024-04-09T02:49:58.087675",
     "status": "completed"
    },
    "tags": []
   },
   "source": [
    "### 2) Explore the table schema\n",
    "\n",
    "How many columns in the `crime` table have `TIMESTAMP` data?"
   ]
  },
  {
   "cell_type": "code",
   "execution_count": 6,
   "id": "e0ced1cb",
   "metadata": {
    "execution": {
     "iopub.execute_input": "2024-04-09T02:49:58.114627Z",
     "iopub.status.busy": "2024-04-09T02:49:58.113902Z",
     "iopub.status.idle": "2024-04-09T02:49:58.713098Z",
     "shell.execute_reply": "2024-04-09T02:49:58.711678Z"
    },
    "papermill": {
     "duration": 0.611981,
     "end_time": "2024-04-09T02:49:58.715943",
     "exception": false,
     "start_time": "2024-04-09T02:49:58.103962",
     "status": "completed"
    },
    "tags": []
   },
   "outputs": [
    {
     "name": "stdout",
     "output_type": "stream",
     "text": [
      "[SchemaField('unique_key', 'INTEGER', 'REQUIRED', None, (), None), SchemaField('case_number', 'STRING', 'NULLABLE', None, (), None), SchemaField('date', 'TIMESTAMP', 'NULLABLE', None, (), None), SchemaField('block', 'STRING', 'NULLABLE', None, (), None), SchemaField('iucr', 'STRING', 'NULLABLE', None, (), None), SchemaField('primary_type', 'STRING', 'NULLABLE', None, (), None), SchemaField('description', 'STRING', 'NULLABLE', None, (), None), SchemaField('location_description', 'STRING', 'NULLABLE', None, (), None), SchemaField('arrest', 'BOOLEAN', 'NULLABLE', None, (), None), SchemaField('domestic', 'BOOLEAN', 'NULLABLE', None, (), None), SchemaField('beat', 'INTEGER', 'NULLABLE', None, (), None), SchemaField('district', 'INTEGER', 'NULLABLE', None, (), None), SchemaField('ward', 'INTEGER', 'NULLABLE', None, (), None), SchemaField('community_area', 'INTEGER', 'NULLABLE', None, (), None), SchemaField('fbi_code', 'STRING', 'NULLABLE', None, (), None), SchemaField('x_coordinate', 'FLOAT', 'NULLABLE', None, (), None), SchemaField('y_coordinate', 'FLOAT', 'NULLABLE', None, (), None), SchemaField('year', 'INTEGER', 'NULLABLE', None, (), None), SchemaField('updated_on', 'TIMESTAMP', 'NULLABLE', None, (), None), SchemaField('latitude', 'FLOAT', 'NULLABLE', None, (), None), SchemaField('longitude', 'FLOAT', 'NULLABLE', None, (), None), SchemaField('location', 'STRING', 'NULLABLE', None, (), None)]\n"
     ]
    }
   ],
   "source": [
    "# Write the code to figure out the answer\n",
    "table_ref = dataset_ref.table(\"crime\")\n",
    "\n",
    "# API request to fetch the table\n",
    "table = client.get_table(table_ref)\n",
    "\n",
    "# Printing table schema\n",
    "print(table.schema)"
   ]
  },
  {
   "cell_type": "code",
   "execution_count": 7,
   "id": "95fcf0b3",
   "metadata": {
    "execution": {
     "iopub.execute_input": "2024-04-09T02:49:58.734501Z",
     "iopub.status.busy": "2024-04-09T02:49:58.733627Z",
     "iopub.status.idle": "2024-04-09T02:49:58.743636Z",
     "shell.execute_reply": "2024-04-09T02:49:58.742340Z"
    },
    "papermill": {
     "duration": 0.022792,
     "end_time": "2024-04-09T02:49:58.746772",
     "exception": false,
     "start_time": "2024-04-09T02:49:58.723980",
     "status": "completed"
    },
    "tags": []
   },
   "outputs": [
    {
     "data": {
      "application/javascript": [
       "parent.postMessage({\"jupyterEvent\": \"custom.exercise_interaction\", \"data\": {\"outcomeType\": 1, \"valueTowardsCompletion\": 0.3333333333333333, \"interactionType\": 1, \"questionType\": 1, \"questionId\": \"2_CountTimestampFields\", \"learnToolsVersion\": \"0.3.4\", \"failureMessage\": \"\", \"exceptionClass\": \"\", \"trace\": \"\"}}, \"*\")"
      ],
      "text/plain": [
       "<IPython.core.display.Javascript object>"
      ]
     },
     "metadata": {},
     "output_type": "display_data"
    },
    {
     "data": {
      "text/markdown": [
       "<span style=\"color:#33cc33\">Correct</span>"
      ],
      "text/plain": [
       "Correct"
      ]
     },
     "metadata": {},
     "output_type": "display_data"
    }
   ],
   "source": [
    "num_timestamp_fields = 2 # Put your answer here\n",
    "\n",
    "# Check your answer\n",
    "q_2.check()"
   ]
  },
  {
   "cell_type": "markdown",
   "id": "52ca1586",
   "metadata": {
    "papermill": {
     "duration": 0.009137,
     "end_time": "2024-04-09T02:49:58.765737",
     "exception": false,
     "start_time": "2024-04-09T02:49:58.756600",
     "status": "completed"
    },
    "tags": []
   },
   "source": [
    "For a hint or the solution, uncomment the appropriate line below."
   ]
  },
  {
   "cell_type": "code",
   "execution_count": 8,
   "id": "3a4ef62c",
   "metadata": {
    "execution": {
     "iopub.execute_input": "2024-04-09T02:49:58.784913Z",
     "iopub.status.busy": "2024-04-09T02:49:58.784503Z",
     "iopub.status.idle": "2024-04-09T02:49:58.789738Z",
     "shell.execute_reply": "2024-04-09T02:49:58.788468Z"
    },
    "papermill": {
     "duration": 0.01848,
     "end_time": "2024-04-09T02:49:58.792701",
     "exception": false,
     "start_time": "2024-04-09T02:49:58.774221",
     "status": "completed"
    },
    "tags": []
   },
   "outputs": [],
   "source": [
    "#q_2.hint()\n",
    "#q_2.solution()"
   ]
  },
  {
   "cell_type": "markdown",
   "id": "b2601496",
   "metadata": {
    "papermill": {
     "duration": 0.008046,
     "end_time": "2024-04-09T02:49:58.809228",
     "exception": false,
     "start_time": "2024-04-09T02:49:58.801182",
     "status": "completed"
    },
    "tags": []
   },
   "source": [
    "### 3) Create a crime map\n",
    "\n",
    "If you wanted to create a map with a dot at the location of each crime, what are the names of the two fields you likely need to pull out of the `crime` table to plot the crimes on a map?"
   ]
  },
  {
   "cell_type": "code",
   "execution_count": 9,
   "id": "f6b13340",
   "metadata": {
    "execution": {
     "iopub.execute_input": "2024-04-09T02:49:58.828831Z",
     "iopub.status.busy": "2024-04-09T02:49:58.828428Z",
     "iopub.status.idle": "2024-04-09T02:49:58.833847Z",
     "shell.execute_reply": "2024-04-09T02:49:58.832592Z"
    },
    "papermill": {
     "duration": 0.019204,
     "end_time": "2024-04-09T02:49:58.836675",
     "exception": false,
     "start_time": "2024-04-09T02:49:58.817471",
     "status": "completed"
    },
    "tags": []
   },
   "outputs": [],
   "source": [
    "# Write the code here to explore the data so you can find the answer"
   ]
  },
  {
   "cell_type": "code",
   "execution_count": 10,
   "id": "49c2ea32",
   "metadata": {
    "execution": {
     "iopub.execute_input": "2024-04-09T02:49:58.856182Z",
     "iopub.status.busy": "2024-04-09T02:49:58.855636Z",
     "iopub.status.idle": "2024-04-09T02:49:58.866412Z",
     "shell.execute_reply": "2024-04-09T02:49:58.865089Z"
    },
    "papermill": {
     "duration": 0.02402,
     "end_time": "2024-04-09T02:49:58.869241",
     "exception": false,
     "start_time": "2024-04-09T02:49:58.845221",
     "status": "completed"
    },
    "tags": []
   },
   "outputs": [
    {
     "data": {
      "application/javascript": [
       "parent.postMessage({\"jupyterEvent\": \"custom.exercise_interaction\", \"data\": {\"outcomeType\": 1, \"valueTowardsCompletion\": 0.3333333333333333, \"interactionType\": 1, \"questionType\": 2, \"questionId\": \"3_IdentifyFieldsForPlotting\", \"learnToolsVersion\": \"0.3.4\", \"failureMessage\": \"\", \"exceptionClass\": \"\", \"trace\": \"\"}}, \"*\")"
      ],
      "text/plain": [
       "<IPython.core.display.Javascript object>"
      ]
     },
     "metadata": {},
     "output_type": "display_data"
    },
    {
     "data": {
      "text/markdown": [
       "<span style=\"color:#33cc33\">Correct</span>"
      ],
      "text/plain": [
       "Correct"
      ]
     },
     "metadata": {},
     "output_type": "display_data"
    }
   ],
   "source": [
    "fields_for_plotting = ['latitude', 'longitude'] # Put your answers here\n",
    "\n",
    "# Check your answer\n",
    "q_3.check()"
   ]
  },
  {
   "cell_type": "markdown",
   "id": "79dc5027",
   "metadata": {
    "papermill": {
     "duration": 0.008993,
     "end_time": "2024-04-09T02:49:58.888105",
     "exception": false,
     "start_time": "2024-04-09T02:49:58.879112",
     "status": "completed"
    },
    "tags": []
   },
   "source": [
    "For a hint or the solution, uncomment the appropriate line below."
   ]
  },
  {
   "cell_type": "code",
   "execution_count": 11,
   "id": "fc75388a",
   "metadata": {
    "execution": {
     "iopub.execute_input": "2024-04-09T02:49:58.908135Z",
     "iopub.status.busy": "2024-04-09T02:49:58.907721Z",
     "iopub.status.idle": "2024-04-09T02:49:58.912630Z",
     "shell.execute_reply": "2024-04-09T02:49:58.911333Z"
    },
    "papermill": {
     "duration": 0.017708,
     "end_time": "2024-04-09T02:49:58.915032",
     "exception": false,
     "start_time": "2024-04-09T02:49:58.897324",
     "status": "completed"
    },
    "tags": []
   },
   "outputs": [],
   "source": [
    "#q_3.hint()\n",
    "#q_3.solution()"
   ]
  },
  {
   "cell_type": "markdown",
   "id": "fdbfa7c7",
   "metadata": {
    "papermill": {
     "duration": 0.008448,
     "end_time": "2024-04-09T02:49:58.932715",
     "exception": false,
     "start_time": "2024-04-09T02:49:58.924267",
     "status": "completed"
    },
    "tags": []
   },
   "source": [
    "Thinking about the question above, there are a few columns that appear to have geographic data. Look at a few values (with the `list_rows()` command) to see if you can determine their relationship.  Two columns will still be hard to interpret. But it should be obvious how the `location` column relates to `latitude` and `longitude`."
   ]
  },
  {
   "cell_type": "code",
   "execution_count": 12,
   "id": "b739ff9f",
   "metadata": {
    "execution": {
     "iopub.execute_input": "2024-04-09T02:49:58.952754Z",
     "iopub.status.busy": "2024-04-09T02:49:58.952298Z",
     "iopub.status.idle": "2024-04-09T02:49:58.957964Z",
     "shell.execute_reply": "2024-04-09T02:49:58.956589Z"
    },
    "papermill": {
     "duration": 0.018783,
     "end_time": "2024-04-09T02:49:58.960506",
     "exception": false,
     "start_time": "2024-04-09T02:49:58.941723",
     "status": "completed"
    },
    "tags": []
   },
   "outputs": [],
   "source": [
    "# Scratch space for your code"
   ]
  },
  {
   "cell_type": "markdown",
   "id": "f5920609",
   "metadata": {
    "papermill": {
     "duration": 0.008488,
     "end_time": "2024-04-09T02:49:58.977841",
     "exception": false,
     "start_time": "2024-04-09T02:49:58.969353",
     "status": "completed"
    },
    "tags": []
   },
   "source": [
    "# Keep going\n",
    "\n",
    "You've looked at the schema, but you haven't yet done anything exciting with the data itself. Things get more interesting when you get to the data, so keep going to **[write your first SQL query](https://www.kaggle.com/dansbecker/select-from-where).**"
   ]
  },
  {
   "cell_type": "markdown",
   "id": "3369b735",
   "metadata": {
    "papermill": {
     "duration": 0.008921,
     "end_time": "2024-04-09T02:49:58.996163",
     "exception": false,
     "start_time": "2024-04-09T02:49:58.987242",
     "status": "completed"
    },
    "tags": []
   },
   "source": [
    "---\n",
    "\n",
    "\n",
    "\n",
    "\n",
    "*Have questions or comments? Visit the [course discussion forum](https://www.kaggle.com/learn/intro-to-sql/discussion) to chat with other learners.*"
   ]
  }
 ],
 "metadata": {
  "kaggle": {
   "accelerator": "none",
   "dataSources": [
    {
     "datasetId": 22090,
     "sourceId": 28376,
     "sourceType": "datasetVersion"
    },
    {
     "datasetId": 6057,
     "sourceId": 285982,
     "sourceType": "datasetVersion"
    }
   ],
   "isGpuEnabled": false,
   "isInternetEnabled": false,
   "language": "python",
   "sourceType": "notebook"
  },
  "kernelspec": {
   "display_name": "Python 3",
   "language": "python",
   "name": "python3"
  },
  "language_info": {
   "codemirror_mode": {
    "name": "ipython",
    "version": 3
   },
   "file_extension": ".py",
   "mimetype": "text/x-python",
   "name": "python",
   "nbconvert_exporter": "python",
   "pygments_lexer": "ipython3",
   "version": "3.10.13"
  },
  "papermill": {
   "default_parameters": {},
   "duration": 15.208193,
   "end_time": "2024-04-09T02:49:59.827857",
   "environment_variables": {},
   "exception": null,
   "input_path": "__notebook__.ipynb",
   "output_path": "__notebook__.ipynb",
   "parameters": {},
   "start_time": "2024-04-09T02:49:44.619664",
   "version": "2.5.0"
  }
 },
 "nbformat": 4,
 "nbformat_minor": 5
}
