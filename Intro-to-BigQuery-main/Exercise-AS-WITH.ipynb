{
 "cells": [
  {
   "cell_type": "markdown",
   "id": "8710fb0a",
   "metadata": {
    "papermill": {
     "duration": 0.011217,
     "end_time": "2024-04-09T16:43:23.501407",
     "exception": false,
     "start_time": "2024-04-09T16:43:23.490190",
     "status": "completed"
    },
    "tags": []
   },
   "source": [
    "**This notebook is an exercise in the [SQL](https://www.kaggle.com/learn/intro-to-sql) course.  You can reference the tutorial at [this link](https://www.kaggle.com/dansbecker/as-with).**\n",
    "\n",
    "---\n"
   ]
  },
  {
   "cell_type": "markdown",
   "id": "18161101",
   "metadata": {
    "papermill": {
     "duration": 0.008643,
     "end_time": "2024-04-09T16:43:23.518924",
     "exception": false,
     "start_time": "2024-04-09T16:43:23.510281",
     "status": "completed"
    },
    "tags": []
   },
   "source": [
    "# Introduction\n",
    "\n",
    "You are getting to the point where you can own an analysis from beginning to end. So you'll do more data exploration in this exercise than you've done before.  Before you get started, run the following set-up code as usual. "
   ]
  },
  {
   "cell_type": "code",
   "execution_count": 1,
   "id": "a1c7a72a",
   "metadata": {
    "execution": {
     "iopub.execute_input": "2024-04-09T16:43:23.539955Z",
     "iopub.status.busy": "2024-04-09T16:43:23.539177Z",
     "iopub.status.idle": "2024-04-09T16:44:05.122538Z",
     "shell.execute_reply": "2024-04-09T16:44:05.121252Z"
    },
    "papermill": {
     "duration": 41.597241,
     "end_time": "2024-04-09T16:44:05.125522",
     "exception": false,
     "start_time": "2024-04-09T16:43:23.528281",
     "status": "completed"
    },
    "tags": []
   },
   "outputs": [
    {
     "name": "stdout",
     "output_type": "stream",
     "text": [
      "Collecting git+https://github.com/Kaggle/learntools.git\r\n",
      "  Cloning https://github.com/Kaggle/learntools.git to /tmp/pip-req-build-uay6xi08\r\n",
      "  Running command git clone --filter=blob:none --quiet https://github.com/Kaggle/learntools.git /tmp/pip-req-build-uay6xi08\r\n",
      "  Resolved https://github.com/Kaggle/learntools.git to commit ca2a51ee0085e4943cadaf5e9fe7dce2ec947d3c\r\n",
      "  Preparing metadata (setup.py) ... \u001b[?25ldone\r\n",
      "\u001b[?25hBuilding wheels for collected packages: learntools\r\n",
      "  Building wheel for learntools (setup.py) ... \u001b[?25l-\b \bdone\r\n",
      "\u001b[?25h  Created wheel for learntools: filename=learntools-0.3.4-py3-none-any.whl size=268968 sha256=6dd5ab175bc459dae2fea00873b2bd45c94a40e9963d257319c9d0e61ba17944\r\n",
      "  Stored in directory: /tmp/pip-ephem-wheel-cache-nmv2y03g/wheels/2f/6c/3c/aa9f50cfb5a862157cb4c7a5b34881828cf45404698255dced\r\n",
      "Successfully built learntools\r\n",
      "Installing collected packages: learntools\r\n",
      "Successfully installed learntools-0.3.4\r\n",
      "Using Kaggle's public dataset BigQuery integration.\n",
      "Setup Complete\n"
     ]
    }
   ],
   "source": [
    "# Get most recent checking code\n",
    "!pip install -U -t /kaggle/working/ git+https://github.com/Kaggle/learntools.git\n",
    "# Set up feedback system\n",
    "from learntools.core import binder\n",
    "binder.bind(globals())\n",
    "from learntools.sql.ex5 import *\n",
    "print(\"Setup Complete\")"
   ]
  },
  {
   "cell_type": "markdown",
   "id": "8685f580",
   "metadata": {
    "papermill": {
     "duration": 0.009276,
     "end_time": "2024-04-09T16:44:05.144709",
     "exception": false,
     "start_time": "2024-04-09T16:44:05.135433",
     "status": "completed"
    },
    "tags": []
   },
   "source": [
    "You'll work with a dataset about taxi trips in the city of Chicago. Run the cell below to fetch the `chicago_taxi_trips` dataset."
   ]
  },
  {
   "cell_type": "code",
   "execution_count": 2,
   "id": "606e8764",
   "metadata": {
    "execution": {
     "iopub.execute_input": "2024-04-09T16:44:05.167348Z",
     "iopub.status.busy": "2024-04-09T16:44:05.166436Z",
     "iopub.status.idle": "2024-04-09T16:44:06.229981Z",
     "shell.execute_reply": "2024-04-09T16:44:06.228892Z"
    },
    "papermill": {
     "duration": 1.078438,
     "end_time": "2024-04-09T16:44:06.232801",
     "exception": false,
     "start_time": "2024-04-09T16:44:05.154363",
     "status": "completed"
    },
    "tags": []
   },
   "outputs": [
    {
     "name": "stdout",
     "output_type": "stream",
     "text": [
      "Using Kaggle's public dataset BigQuery integration.\n"
     ]
    }
   ],
   "source": [
    "from google.cloud import bigquery\n",
    "\n",
    "# Create a \"Client\" object\n",
    "client = bigquery.Client()\n",
    "\n",
    "# Construct a reference to the \"chicago_taxi_trips\" dataset\n",
    "dataset_ref = client.dataset(\"chicago_taxi_trips\", project=\"bigquery-public-data\")\n",
    "\n",
    "# API request - fetch the dataset\n",
    "dataset = client.get_dataset(dataset_ref)"
   ]
  },
  {
   "cell_type": "markdown",
   "id": "ba69d49c",
   "metadata": {
    "papermill": {
     "duration": 0.00981,
     "end_time": "2024-04-09T16:44:06.253735",
     "exception": false,
     "start_time": "2024-04-09T16:44:06.243925",
     "status": "completed"
    },
    "tags": []
   },
   "source": [
    "# Exercises\n",
    "\n",
    "You are curious how much slower traffic moves when traffic volume is high. This involves a few steps.\n",
    "\n",
    "### 1) Find the data\n",
    "Before you can access the data, you need to find the table name with the data.\n",
    "\n",
    "*Hint*: Tab completion is helpful whenever you can't remember a command. Type `client.` and then hit the tab key. Don't forget the period before hitting tab."
   ]
  },
  {
   "cell_type": "code",
   "execution_count": 3,
   "id": "85d55608",
   "metadata": {
    "execution": {
     "iopub.execute_input": "2024-04-09T16:44:06.279772Z",
     "iopub.status.busy": "2024-04-09T16:44:06.278805Z",
     "iopub.status.idle": "2024-04-09T16:44:07.230466Z",
     "shell.execute_reply": "2024-04-09T16:44:07.229188Z"
    },
    "papermill": {
     "duration": 0.966911,
     "end_time": "2024-04-09T16:44:07.233307",
     "exception": false,
     "start_time": "2024-04-09T16:44:06.266396",
     "status": "completed"
    },
    "tags": []
   },
   "outputs": [
    {
     "name": "stdout",
     "output_type": "stream",
     "text": [
      "taxi_trips\n"
     ]
    }
   ],
   "source": [
    "# Your code here to find the table name\n",
    "tables = list(client.list_tables(dataset))\n",
    "\n",
    "# Print names of all the tables in the dataset\n",
    "for table in tables:\n",
    "    print(table.table_id)"
   ]
  },
  {
   "cell_type": "code",
   "execution_count": 4,
   "id": "01b0d2eb",
   "metadata": {
    "execution": {
     "iopub.execute_input": "2024-04-09T16:44:07.255557Z",
     "iopub.status.busy": "2024-04-09T16:44:07.254477Z",
     "iopub.status.idle": "2024-04-09T16:44:07.266372Z",
     "shell.execute_reply": "2024-04-09T16:44:07.265128Z"
    },
    "papermill": {
     "duration": 0.025853,
     "end_time": "2024-04-09T16:44:07.269289",
     "exception": false,
     "start_time": "2024-04-09T16:44:07.243436",
     "status": "completed"
    },
    "tags": []
   },
   "outputs": [
    {
     "data": {
      "application/javascript": [
       "parent.postMessage({\"jupyterEvent\": \"custom.exercise_interaction\", \"data\": {\"outcomeType\": 1, \"valueTowardsCompletion\": 0.16666666666666666, \"interactionType\": 1, \"questionType\": 1, \"questionId\": \"1_GetTableName\", \"learnToolsVersion\": \"0.3.4\", \"failureMessage\": \"\", \"exceptionClass\": \"\", \"trace\": \"\"}}, \"*\")"
      ],
      "text/plain": [
       "<IPython.core.display.Javascript object>"
      ]
     },
     "metadata": {},
     "output_type": "display_data"
    },
    {
     "data": {
      "text/markdown": [
       "<span style=\"color:#33cc33\">Correct</span>"
      ],
      "text/plain": [
       "Correct"
      ]
     },
     "metadata": {},
     "output_type": "display_data"
    }
   ],
   "source": [
    "# Write the table name as a string below\n",
    "table_name = 'taxi_trips'\n",
    "\n",
    "# Check your answer\n",
    "q_1.check()"
   ]
  },
  {
   "cell_type": "markdown",
   "id": "ca5fea45",
   "metadata": {
    "papermill": {
     "duration": 0.011461,
     "end_time": "2024-04-09T16:44:07.290888",
     "exception": false,
     "start_time": "2024-04-09T16:44:07.279427",
     "status": "completed"
    },
    "tags": []
   },
   "source": [
    "For the solution, uncomment the line below."
   ]
  },
  {
   "cell_type": "code",
   "execution_count": 5,
   "id": "9833f9c8",
   "metadata": {
    "execution": {
     "iopub.execute_input": "2024-04-09T16:44:07.312930Z",
     "iopub.status.busy": "2024-04-09T16:44:07.312523Z",
     "iopub.status.idle": "2024-04-09T16:44:07.317487Z",
     "shell.execute_reply": "2024-04-09T16:44:07.316307Z"
    },
    "papermill": {
     "duration": 0.018827,
     "end_time": "2024-04-09T16:44:07.319839",
     "exception": false,
     "start_time": "2024-04-09T16:44:07.301012",
     "status": "completed"
    },
    "tags": []
   },
   "outputs": [],
   "source": [
    "#q_1.solution()"
   ]
  },
  {
   "cell_type": "markdown",
   "id": "2df35938",
   "metadata": {
    "papermill": {
     "duration": 0.009648,
     "end_time": "2024-04-09T16:44:07.339685",
     "exception": false,
     "start_time": "2024-04-09T16:44:07.330037",
     "status": "completed"
    },
    "tags": []
   },
   "source": [
    "### 2) Peek at the data\n",
    "\n",
    "Use the next code cell to peek at the top few rows of the data. Inspect the data and see if any issues with data quality are immediately obvious. "
   ]
  },
  {
   "cell_type": "code",
   "execution_count": 6,
   "id": "a65ea338",
   "metadata": {
    "execution": {
     "iopub.execute_input": "2024-04-09T16:44:07.363054Z",
     "iopub.status.busy": "2024-04-09T16:44:07.362248Z",
     "iopub.status.idle": "2024-04-09T16:44:08.913319Z",
     "shell.execute_reply": "2024-04-09T16:44:08.912090Z"
    },
    "papermill": {
     "duration": 1.565252,
     "end_time": "2024-04-09T16:44:08.915779",
     "exception": false,
     "start_time": "2024-04-09T16:44:07.350527",
     "status": "completed"
    },
    "tags": []
   },
   "outputs": [
    {
     "data": {
      "text/html": [
       "<div>\n",
       "<style scoped>\n",
       "    .dataframe tbody tr th:only-of-type {\n",
       "        vertical-align: middle;\n",
       "    }\n",
       "\n",
       "    .dataframe tbody tr th {\n",
       "        vertical-align: top;\n",
       "    }\n",
       "\n",
       "    .dataframe thead th {\n",
       "        text-align: right;\n",
       "    }\n",
       "</style>\n",
       "<table border=\"1\" class=\"dataframe\">\n",
       "  <thead>\n",
       "    <tr style=\"text-align: right;\">\n",
       "      <th></th>\n",
       "      <th>unique_key</th>\n",
       "      <th>taxi_id</th>\n",
       "      <th>trip_start_timestamp</th>\n",
       "      <th>trip_end_timestamp</th>\n",
       "      <th>trip_seconds</th>\n",
       "      <th>trip_miles</th>\n",
       "      <th>pickup_census_tract</th>\n",
       "      <th>dropoff_census_tract</th>\n",
       "      <th>pickup_community_area</th>\n",
       "      <th>dropoff_community_area</th>\n",
       "      <th>...</th>\n",
       "      <th>extras</th>\n",
       "      <th>trip_total</th>\n",
       "      <th>payment_type</th>\n",
       "      <th>company</th>\n",
       "      <th>pickup_latitude</th>\n",
       "      <th>pickup_longitude</th>\n",
       "      <th>pickup_location</th>\n",
       "      <th>dropoff_latitude</th>\n",
       "      <th>dropoff_longitude</th>\n",
       "      <th>dropoff_location</th>\n",
       "    </tr>\n",
       "  </thead>\n",
       "  <tbody>\n",
       "    <tr>\n",
       "      <th>0</th>\n",
       "      <td>89dbb2fc5b8dad6e95f3da319010d3995b9aed3a</td>\n",
       "      <td>4efb4a59d8c600a9d2a8d14362769bed234568a573dc5f...</td>\n",
       "      <td>2014-12-01 18:30:00+00:00</td>\n",
       "      <td>2014-12-01 18:30:00+00:00</td>\n",
       "      <td>420</td>\n",
       "      <td>0.8</td>\n",
       "      <td>NaN</td>\n",
       "      <td>NaN</td>\n",
       "      <td>NaN</td>\n",
       "      <td>NaN</td>\n",
       "      <td>...</td>\n",
       "      <td>1.0</td>\n",
       "      <td>6.65</td>\n",
       "      <td>Cash</td>\n",
       "      <td>None</td>\n",
       "      <td>NaN</td>\n",
       "      <td>NaN</td>\n",
       "      <td>None</td>\n",
       "      <td>NaN</td>\n",
       "      <td>NaN</td>\n",
       "      <td>None</td>\n",
       "    </tr>\n",
       "    <tr>\n",
       "      <th>1</th>\n",
       "      <td>33d91796f8cc1c00b68addf4b95b5c0dc01c95d0</td>\n",
       "      <td>ac3197af61ac119894f5d339834595e2d1e28f8d6609e7...</td>\n",
       "      <td>2014-11-28 06:30:00+00:00</td>\n",
       "      <td>2014-11-28 06:45:00+00:00</td>\n",
       "      <td>540</td>\n",
       "      <td>2.2</td>\n",
       "      <td>NaN</td>\n",
       "      <td>NaN</td>\n",
       "      <td>NaN</td>\n",
       "      <td>NaN</td>\n",
       "      <td>...</td>\n",
       "      <td>0.0</td>\n",
       "      <td>8.25</td>\n",
       "      <td>Cash</td>\n",
       "      <td>None</td>\n",
       "      <td>NaN</td>\n",
       "      <td>NaN</td>\n",
       "      <td>None</td>\n",
       "      <td>NaN</td>\n",
       "      <td>NaN</td>\n",
       "      <td>None</td>\n",
       "    </tr>\n",
       "    <tr>\n",
       "      <th>2</th>\n",
       "      <td>9759ecc279a90f20e346d0eab065a8275d28b2e0</td>\n",
       "      <td>ac3197af61ac119894f5d339834595e2d1e28f8d6609e7...</td>\n",
       "      <td>2014-11-28 08:15:00+00:00</td>\n",
       "      <td>2014-11-28 08:15:00+00:00</td>\n",
       "      <td>180</td>\n",
       "      <td>0.5</td>\n",
       "      <td>NaN</td>\n",
       "      <td>NaN</td>\n",
       "      <td>NaN</td>\n",
       "      <td>NaN</td>\n",
       "      <td>...</td>\n",
       "      <td>0.0</td>\n",
       "      <td>4.45</td>\n",
       "      <td>Cash</td>\n",
       "      <td>None</td>\n",
       "      <td>NaN</td>\n",
       "      <td>NaN</td>\n",
       "      <td>None</td>\n",
       "      <td>NaN</td>\n",
       "      <td>NaN</td>\n",
       "      <td>None</td>\n",
       "    </tr>\n",
       "    <tr>\n",
       "      <th>3</th>\n",
       "      <td>a3059e04c539b9f333116268ee80bc8790e31b16</td>\n",
       "      <td>ac3197af61ac119894f5d339834595e2d1e28f8d6609e7...</td>\n",
       "      <td>2014-11-28 05:30:00+00:00</td>\n",
       "      <td>2014-11-28 05:30:00+00:00</td>\n",
       "      <td>180</td>\n",
       "      <td>0.6</td>\n",
       "      <td>NaN</td>\n",
       "      <td>NaN</td>\n",
       "      <td>NaN</td>\n",
       "      <td>NaN</td>\n",
       "      <td>...</td>\n",
       "      <td>0.0</td>\n",
       "      <td>6.84</td>\n",
       "      <td>Credit Card</td>\n",
       "      <td>None</td>\n",
       "      <td>NaN</td>\n",
       "      <td>NaN</td>\n",
       "      <td>None</td>\n",
       "      <td>NaN</td>\n",
       "      <td>NaN</td>\n",
       "      <td>None</td>\n",
       "    </tr>\n",
       "    <tr>\n",
       "      <th>4</th>\n",
       "      <td>e9fbfd63f479544264ab62ffee1663644f089c4f</td>\n",
       "      <td>ac3197af61ac119894f5d339834595e2d1e28f8d6609e7...</td>\n",
       "      <td>2014-11-28 06:15:00+00:00</td>\n",
       "      <td>2014-11-28 06:15:00+00:00</td>\n",
       "      <td>480</td>\n",
       "      <td>2.5</td>\n",
       "      <td>NaN</td>\n",
       "      <td>NaN</td>\n",
       "      <td>NaN</td>\n",
       "      <td>NaN</td>\n",
       "      <td>...</td>\n",
       "      <td>0.0</td>\n",
       "      <td>8.25</td>\n",
       "      <td>Cash</td>\n",
       "      <td>None</td>\n",
       "      <td>NaN</td>\n",
       "      <td>NaN</td>\n",
       "      <td>None</td>\n",
       "      <td>NaN</td>\n",
       "      <td>NaN</td>\n",
       "      <td>None</td>\n",
       "    </tr>\n",
       "  </tbody>\n",
       "</table>\n",
       "<p>5 rows × 23 columns</p>\n",
       "</div>"
      ],
      "text/plain": [
       "                                 unique_key  \\\n",
       "0  89dbb2fc5b8dad6e95f3da319010d3995b9aed3a   \n",
       "1  33d91796f8cc1c00b68addf4b95b5c0dc01c95d0   \n",
       "2  9759ecc279a90f20e346d0eab065a8275d28b2e0   \n",
       "3  a3059e04c539b9f333116268ee80bc8790e31b16   \n",
       "4  e9fbfd63f479544264ab62ffee1663644f089c4f   \n",
       "\n",
       "                                             taxi_id  \\\n",
       "0  4efb4a59d8c600a9d2a8d14362769bed234568a573dc5f...   \n",
       "1  ac3197af61ac119894f5d339834595e2d1e28f8d6609e7...   \n",
       "2  ac3197af61ac119894f5d339834595e2d1e28f8d6609e7...   \n",
       "3  ac3197af61ac119894f5d339834595e2d1e28f8d6609e7...   \n",
       "4  ac3197af61ac119894f5d339834595e2d1e28f8d6609e7...   \n",
       "\n",
       "       trip_start_timestamp        trip_end_timestamp  trip_seconds  \\\n",
       "0 2014-12-01 18:30:00+00:00 2014-12-01 18:30:00+00:00           420   \n",
       "1 2014-11-28 06:30:00+00:00 2014-11-28 06:45:00+00:00           540   \n",
       "2 2014-11-28 08:15:00+00:00 2014-11-28 08:15:00+00:00           180   \n",
       "3 2014-11-28 05:30:00+00:00 2014-11-28 05:30:00+00:00           180   \n",
       "4 2014-11-28 06:15:00+00:00 2014-11-28 06:15:00+00:00           480   \n",
       "\n",
       "   trip_miles  pickup_census_tract  dropoff_census_tract  \\\n",
       "0         0.8                  NaN                   NaN   \n",
       "1         2.2                  NaN                   NaN   \n",
       "2         0.5                  NaN                   NaN   \n",
       "3         0.6                  NaN                   NaN   \n",
       "4         2.5                  NaN                   NaN   \n",
       "\n",
       "   pickup_community_area  dropoff_community_area  ...  extras  trip_total  \\\n",
       "0                    NaN                     NaN  ...     1.0        6.65   \n",
       "1                    NaN                     NaN  ...     0.0        8.25   \n",
       "2                    NaN                     NaN  ...     0.0        4.45   \n",
       "3                    NaN                     NaN  ...     0.0        6.84   \n",
       "4                    NaN                     NaN  ...     0.0        8.25   \n",
       "\n",
       "   payment_type  company  pickup_latitude pickup_longitude pickup_location  \\\n",
       "0          Cash     None              NaN              NaN            None   \n",
       "1          Cash     None              NaN              NaN            None   \n",
       "2          Cash     None              NaN              NaN            None   \n",
       "3   Credit Card     None              NaN              NaN            None   \n",
       "4          Cash     None              NaN              NaN            None   \n",
       "\n",
       "   dropoff_latitude  dropoff_longitude dropoff_location  \n",
       "0               NaN                NaN             None  \n",
       "1               NaN                NaN             None  \n",
       "2               NaN                NaN             None  \n",
       "3               NaN                NaN             None  \n",
       "4               NaN                NaN             None  \n",
       "\n",
       "[5 rows x 23 columns]"
      ]
     },
     "execution_count": 6,
     "metadata": {},
     "output_type": "execute_result"
    }
   ],
   "source": [
    "# Your code here\n",
    "client.list_rows(table, max_results=5).to_dataframe()"
   ]
  },
  {
   "cell_type": "markdown",
   "id": "275ab386",
   "metadata": {
    "papermill": {
     "duration": 0.010233,
     "end_time": "2024-04-09T16:44:08.936800",
     "exception": false,
     "start_time": "2024-04-09T16:44:08.926567",
     "status": "completed"
    },
    "tags": []
   },
   "source": [
    "After deciding whether you see any important issues, run the code cell below."
   ]
  },
  {
   "cell_type": "code",
   "execution_count": 7,
   "id": "1c648167",
   "metadata": {
    "execution": {
     "iopub.execute_input": "2024-04-09T16:44:08.960837Z",
     "iopub.status.busy": "2024-04-09T16:44:08.960206Z",
     "iopub.status.idle": "2024-04-09T16:44:08.969458Z",
     "shell.execute_reply": "2024-04-09T16:44:08.968327Z"
    },
    "papermill": {
     "duration": 0.023979,
     "end_time": "2024-04-09T16:44:08.972041",
     "exception": false,
     "start_time": "2024-04-09T16:44:08.948062",
     "status": "completed"
    },
    "tags": []
   },
   "outputs": [
    {
     "data": {
      "application/javascript": [
       "parent.postMessage({\"jupyterEvent\": \"custom.exercise_interaction\", \"data\": {\"interactionType\": 3, \"questionType\": 4, \"questionId\": \"2_WhatsWrongWithData\", \"learnToolsVersion\": \"0.3.4\", \"valueTowardsCompletion\": 0.0, \"failureMessage\": \"\", \"exceptionClass\": \"\", \"trace\": \"\", \"outcomeType\": 4}}, \"*\")"
      ],
      "text/plain": [
       "<IPython.core.display.Javascript object>"
      ]
     },
     "metadata": {},
     "output_type": "display_data"
    },
    {
     "data": {
      "text/markdown": [
       "<span style=\"color:#33cc99\">Solution:</span> \n",
       "You can see the data by calling: \n",
       "```python\n",
       "# Construct a reference to the \"taxi_trips\" table\n",
       "table_ref = dataset_ref.table(\"taxi_trips\")\n",
       "\n",
       "# API request - fetch the table\n",
       "table = client.get_table(table_ref)\n",
       "\n",
       "# Preview the first five lines of the \"taxi_trips\" table\n",
       "client.list_rows(table, max_results=5).to_dataframe()\n",
       "```\n",
       "\n",
       "Some location fields have values of `None` or `NaN`. That is a problem if we want to use those fields.\n"
      ],
      "text/plain": [
       "Solution: \n",
       "You can see the data by calling: \n",
       "```python\n",
       "# Construct a reference to the \"taxi_trips\" table\n",
       "table_ref = dataset_ref.table(\"taxi_trips\")\n",
       "\n",
       "# API request - fetch the table\n",
       "table = client.get_table(table_ref)\n",
       "\n",
       "# Preview the first five lines of the \"taxi_trips\" table\n",
       "client.list_rows(table, max_results=5).to_dataframe()\n",
       "```\n",
       "\n",
       "Some location fields have values of `None` or `NaN`. That is a problem if we want to use those fields."
      ]
     },
     "metadata": {},
     "output_type": "display_data"
    }
   ],
   "source": [
    "# Check your answer (Run this code cell to receive credit!)\n",
    "q_2.solution()"
   ]
  },
  {
   "cell_type": "markdown",
   "id": "c2568868",
   "metadata": {
    "papermill": {
     "duration": 0.010909,
     "end_time": "2024-04-09T16:44:08.995411",
     "exception": false,
     "start_time": "2024-04-09T16:44:08.984502",
     "status": "completed"
    },
    "tags": []
   },
   "source": [
    "### 3) Determine when this data is from\n",
    "\n",
    "If the data is sufficiently old, we might be careful before assuming the data is still relevant to traffic patterns today. Write a query that counts the number of trips in each year.  \n",
    "\n",
    "Your results should have two columns:\n",
    "- `year` - the year of the trips\n",
    "- `num_trips` - the number of trips in that year\n",
    "\n",
    "Hints:\n",
    "- When using **GROUP BY** and **ORDER BY**, you should refer to the columns by the alias `year` that you set at the top of the **SELECT** query.\n",
    "- The SQL code to **SELECT** the year from `trip_start_timestamp` is <code>SELECT EXTRACT(YEAR FROM trip_start_timestamp)</code>\n",
    "- The **FROM** field can be a little tricky until you are used to it.  The format is:\n",
    "    1. A backick (the symbol \\`).\n",
    "    2. The project name. In this case it is `bigquery-public-data`.\n",
    "    3. A period.\n",
    "    4. The dataset name. In this case, it is `chicago_taxi_trips`.\n",
    "    5. A period.\n",
    "    6. The table name. You used this as your answer in **1) Find the data**.\n",
    "    7. A backtick (the symbol \\`)."
   ]
  },
  {
   "cell_type": "code",
   "execution_count": 8,
   "id": "10c9f518",
   "metadata": {
    "execution": {
     "iopub.execute_input": "2024-04-09T16:44:09.019476Z",
     "iopub.status.busy": "2024-04-09T16:44:09.019089Z",
     "iopub.status.idle": "2024-04-09T16:44:11.635778Z",
     "shell.execute_reply": "2024-04-09T16:44:11.634958Z"
    },
    "papermill": {
     "duration": 2.631518,
     "end_time": "2024-04-09T16:44:11.638217",
     "exception": false,
     "start_time": "2024-04-09T16:44:09.006699",
     "status": "completed"
    },
    "tags": []
   },
   "outputs": [
    {
     "name": "stdout",
     "output_type": "stream",
     "text": [
      "   year  num_trips\n",
      "0  2013    8057496\n",
      "1  2014   14975761\n",
      "2  2015   13942179\n",
      "3  2016   20503949\n",
      "4  2017   22837699\n",
      "5  2018   18347736\n",
      "6  2019    3876273\n",
      "7  2022      35089\n",
      "8  2023      13102\n"
     ]
    },
    {
     "data": {
      "application/javascript": [
       "parent.postMessage({\"jupyterEvent\": \"custom.exercise_interaction\", \"data\": {\"outcomeType\": 1, \"valueTowardsCompletion\": 0.16666666666666666, \"interactionType\": 1, \"questionType\": 2, \"questionId\": \"3_YearDistrib\", \"learnToolsVersion\": \"0.3.4\", \"failureMessage\": \"\", \"exceptionClass\": \"\", \"trace\": \"\"}}, \"*\")"
      ],
      "text/plain": [
       "<IPython.core.display.Javascript object>"
      ]
     },
     "metadata": {},
     "output_type": "display_data"
    },
    {
     "data": {
      "text/markdown": [
       "<span style=\"color:#33cc33\">Correct</span>"
      ],
      "text/plain": [
       "Correct"
      ]
     },
     "metadata": {},
     "output_type": "display_data"
    }
   ],
   "source": [
    "# Your code goes here\n",
    "rides_per_year_query = \"\"\"\n",
    "                       SELECT EXTRACT(YEAR FROM trip_start_timestamp) AS year, \n",
    "                              COUNT(1) AS num_trips\n",
    "                       FROM `bigquery-public-data.chicago_taxi_trips.taxi_trips`\n",
    "                       GROUP BY year\n",
    "                       ORDER BY year\n",
    "                       \"\"\"\n",
    "\n",
    "# Set up the query (cancel the query if it would use too much of \n",
    "# your quota)\n",
    "safe_config = bigquery.QueryJobConfig(maximum_bytes_billed=10**10)\n",
    "rides_per_year_query_job = client.query(rides_per_year_query, job_config=safe_config)\n",
    "\n",
    "# API request - run the query, and return a pandas DataFrame\n",
    "rides_per_year_result = rides_per_year_query_job.to_dataframe()\n",
    "\n",
    "# View results\n",
    "print(rides_per_year_result)\n",
    "\n",
    "# Check your answer\n",
    "q_3.check()"
   ]
  },
  {
   "cell_type": "markdown",
   "id": "c927824b",
   "metadata": {
    "papermill": {
     "duration": 0.011069,
     "end_time": "2024-04-09T16:44:11.661134",
     "exception": false,
     "start_time": "2024-04-09T16:44:11.650065",
     "status": "completed"
    },
    "tags": []
   },
   "source": [
    "For a hint or the solution, uncomment the appropriate line below."
   ]
  },
  {
   "cell_type": "code",
   "execution_count": 9,
   "id": "c93b52a5",
   "metadata": {
    "execution": {
     "iopub.execute_input": "2024-04-09T16:44:11.687117Z",
     "iopub.status.busy": "2024-04-09T16:44:11.686145Z",
     "iopub.status.idle": "2024-04-09T16:44:11.691077Z",
     "shell.execute_reply": "2024-04-09T16:44:11.689928Z"
    },
    "papermill": {
     "duration": 0.020287,
     "end_time": "2024-04-09T16:44:11.693686",
     "exception": false,
     "start_time": "2024-04-09T16:44:11.673399",
     "status": "completed"
    },
    "tags": []
   },
   "outputs": [],
   "source": [
    "#q_3.hint()\n",
    "#q_3.solution()"
   ]
  },
  {
   "cell_type": "markdown",
   "id": "85eef790",
   "metadata": {
    "papermill": {
     "duration": 0.011168,
     "end_time": "2024-04-09T16:44:11.716678",
     "exception": false,
     "start_time": "2024-04-09T16:44:11.705510",
     "status": "completed"
    },
    "tags": []
   },
   "source": [
    "### 4) Dive slightly deeper\n",
    "\n",
    "You'd like to take a closer look at rides from 2016.  Copy the query you used above in `rides_per_year_query` into the cell below for `rides_per_month_query`.  Then modify it in two ways:\n",
    "1. Use a **WHERE** clause to limit the query to data from 2016.\n",
    "2. Modify the query to extract the month rather than the year."
   ]
  },
  {
   "cell_type": "code",
   "execution_count": 10,
   "id": "f3aac10e",
   "metadata": {
    "execution": {
     "iopub.execute_input": "2024-04-09T16:44:11.740921Z",
     "iopub.status.busy": "2024-04-09T16:44:11.740525Z",
     "iopub.status.idle": "2024-04-09T16:44:13.810081Z",
     "shell.execute_reply": "2024-04-09T16:44:13.808905Z"
    },
    "papermill": {
     "duration": 2.084371,
     "end_time": "2024-04-09T16:44:13.812343",
     "exception": false,
     "start_time": "2024-04-09T16:44:11.727972",
     "status": "completed"
    },
    "tags": []
   },
   "outputs": [
    {
     "name": "stdout",
     "output_type": "stream",
     "text": [
      "    month  num_trips\n",
      "0       1     694951\n",
      "1       2     713740\n",
      "2       3     784291\n",
      "3       4    1387172\n",
      "4       5    1215852\n",
      "5       6    1235555\n",
      "6       7    2209304\n",
      "7       8    2533202\n",
      "8       9    2488305\n",
      "9      10    2681787\n",
      "10     11    2315812\n",
      "11     12    2243978\n"
     ]
    },
    {
     "data": {
      "application/javascript": [
       "parent.postMessage({\"jupyterEvent\": \"custom.exercise_interaction\", \"data\": {\"outcomeType\": 1, \"valueTowardsCompletion\": 0.16666666666666666, \"interactionType\": 1, \"questionType\": 2, \"questionId\": \"4_MonthDistrib\", \"learnToolsVersion\": \"0.3.4\", \"failureMessage\": \"\", \"exceptionClass\": \"\", \"trace\": \"\"}}, \"*\")"
      ],
      "text/plain": [
       "<IPython.core.display.Javascript object>"
      ]
     },
     "metadata": {},
     "output_type": "display_data"
    },
    {
     "data": {
      "text/markdown": [
       "<span style=\"color:#33cc33\">Correct</span>"
      ],
      "text/plain": [
       "Correct"
      ]
     },
     "metadata": {},
     "output_type": "display_data"
    }
   ],
   "source": [
    "# Your code goes here\n",
    "\n",
    "rides_per_month_query = \"\"\"\n",
    "                       SELECT EXTRACT(MONTH FROM trip_start_timestamp) AS month, \n",
    "                              COUNT(1) AS num_trips\n",
    "                       FROM `bigquery-public-data.chicago_taxi_trips.taxi_trips`\n",
    "                       WHERE EXTRACT(YEAR FROM trip_start_timestamp) = 2016\n",
    "                       GROUP BY month\n",
    "                       ORDER BY month\n",
    "                       \"\"\"\n",
    "\n",
    "# Set up the query\n",
    "safe_config = bigquery.QueryJobConfig(maximum_bytes_billed=10**10)\n",
    "rides_per_month_query_job = client.query(rides_per_month_query, job_config=safe_config)\n",
    "\n",
    "# API request - run the query, and return a pandas DataFrame\n",
    "rides_per_month_result = rides_per_month_query_job.to_dataframe()\n",
    "# View results\n",
    "print(rides_per_month_result)\n",
    "\n",
    "# Check your answer\n",
    "q_4.check()"
   ]
  },
  {
   "cell_type": "markdown",
   "id": "d9990644",
   "metadata": {
    "papermill": {
     "duration": 0.012282,
     "end_time": "2024-04-09T16:44:13.836812",
     "exception": false,
     "start_time": "2024-04-09T16:44:13.824530",
     "status": "completed"
    },
    "tags": []
   },
   "source": [
    "For a hint or the solution, uncomment the appropriate line below."
   ]
  },
  {
   "cell_type": "code",
   "execution_count": 11,
   "id": "574df69c",
   "metadata": {
    "execution": {
     "iopub.execute_input": "2024-04-09T16:44:13.862304Z",
     "iopub.status.busy": "2024-04-09T16:44:13.861937Z",
     "iopub.status.idle": "2024-04-09T16:44:13.866182Z",
     "shell.execute_reply": "2024-04-09T16:44:13.864918Z"
    },
    "papermill": {
     "duration": 0.019899,
     "end_time": "2024-04-09T16:44:13.868561",
     "exception": false,
     "start_time": "2024-04-09T16:44:13.848662",
     "status": "completed"
    },
    "tags": []
   },
   "outputs": [],
   "source": [
    "#q_4.hint()\n",
    "#q_4.solution()"
   ]
  },
  {
   "cell_type": "markdown",
   "id": "dbfde196",
   "metadata": {
    "papermill": {
     "duration": 0.011465,
     "end_time": "2024-04-09T16:44:13.891803",
     "exception": false,
     "start_time": "2024-04-09T16:44:13.880338",
     "status": "completed"
    },
    "tags": []
   },
   "source": [
    "### 5) Write the query\n",
    "\n",
    "It's time to step up the sophistication of your queries.  Write a query that shows, for each hour of the day in the dataset, the corresponding number of trips and average speed.\n",
    "\n",
    "Your results should have three columns:\n",
    "- `hour_of_day` - sort by this column, which holds the result of extracting the hour from `trip_start_timestamp`.\n",
    "- `num_trips` - the count of the total number of trips in each hour of the day (e.g. how many trips were started between 6AM and 7AM, independent of which day it occurred on).\n",
    "- `avg_mph` - the average speed, measured in miles per hour, for trips that started in that hour of the day.  Average speed in miles per hour is calculated as `3600 * SUM(trip_miles) / SUM(trip_seconds)`. (The value 3600 is used to convert from seconds to hours.)\n",
    "\n",
    "Restrict your query to data meeting the following criteria:\n",
    "- a `trip_start_timestamp` > **2016-01-01** and < **2016-04-01**\n",
    "- `trip_seconds` > 0 and `trip_miles` > 0\n",
    "\n",
    "You will use a common table expression (CTE) to select just the relevant rides.  Because this dataset is very big, this CTE should select only the columns you'll need to create the final output (though you won't actually create those in the CTE -- instead you'll create those in the later **SELECT** statement below the CTE).\n",
    "\n",
    "This is a much harder query than anything you've written so far.  Good luck!"
   ]
  },
  {
   "cell_type": "code",
   "execution_count": 12,
   "id": "7a1685bc",
   "metadata": {
    "execution": {
     "iopub.execute_input": "2024-04-09T16:44:13.919284Z",
     "iopub.status.busy": "2024-04-09T16:44:13.918280Z",
     "iopub.status.idle": "2024-04-09T16:44:15.350614Z",
     "shell.execute_reply": "2024-04-09T16:44:15.349426Z"
    },
    "papermill": {
     "duration": 1.448458,
     "end_time": "2024-04-09T16:44:15.353515",
     "exception": false,
     "start_time": "2024-04-09T16:44:13.905057",
     "status": "completed"
    },
    "tags": []
   },
   "outputs": [
    {
     "name": "stdout",
     "output_type": "stream",
     "text": [
      "    hour_of_day  num_trips    avg_mph\n",
      "0             0      55346  24.217470\n",
      "1             1      47918  21.583542\n",
      "2             2      36281  22.022014\n",
      "3             3      25443  23.573634\n",
      "4             4      19259  37.167362\n",
      "5             5      23802  41.129593\n",
      "6             6      38221  34.517589\n",
      "7             7      74513  22.413419\n",
      "8             8     106311  20.154420\n",
      "9             9      99494  25.419499\n",
      "10           10      89949  26.275635\n",
      "11           11     102920  25.496273\n",
      "12           12     105822  24.385969\n",
      "13           13     107502  24.925393\n",
      "14           14     104854  23.887590\n",
      "15           15     111775  22.742421\n",
      "16           16     123901  21.252329\n",
      "17           17     141727  17.366909\n",
      "18           18     149813  20.053263\n",
      "19           19     133832  23.953912\n",
      "20           20     105990  26.816491\n",
      "21           21      98439  29.798311\n",
      "22           22      85482  26.649130\n",
      "23           23      66243  24.840900\n"
     ]
    },
    {
     "data": {
      "application/javascript": [
       "parent.postMessage({\"jupyterEvent\": \"custom.exercise_interaction\", \"data\": {\"outcomeType\": 1, \"valueTowardsCompletion\": 0.16666666666666666, \"interactionType\": 1, \"questionType\": 2, \"questionId\": \"5_TheLongQuery\", \"learnToolsVersion\": \"0.3.4\", \"failureMessage\": \"\", \"exceptionClass\": \"\", \"trace\": \"\"}}, \"*\")"
      ],
      "text/plain": [
       "<IPython.core.display.Javascript object>"
      ]
     },
     "metadata": {},
     "output_type": "display_data"
    },
    {
     "data": {
      "text/markdown": [
       "<span style=\"color:#33cc33\">Correct</span>"
      ],
      "text/plain": [
       "Correct"
      ]
     },
     "metadata": {},
     "output_type": "display_data"
    }
   ],
   "source": [
    "# Your code goes here\n",
    "speeds_query = \"\"\"\n",
    "               WITH RelevantRides AS\n",
    "               (\n",
    "                   SELECT EXTRACT(HOUR FROM trip_start_timestamp) AS hour_of_day, \n",
    "                          trip_miles, \n",
    "                          trip_seconds\n",
    "                   FROM `bigquery-public-data.chicago_taxi_trips.taxi_trips`\n",
    "                   WHERE trip_start_timestamp > '2016-01-01' AND \n",
    "                         trip_start_timestamp < '2016-04-01' AND \n",
    "                         trip_seconds > 0 AND \n",
    "                         trip_miles > 0\n",
    "               )\n",
    "               SELECT hour_of_day, \n",
    "                      COUNT(1) AS num_trips, \n",
    "                      3600 * SUM(trip_miles) / SUM(trip_seconds) AS avg_mph\n",
    "               FROM RelevantRides\n",
    "               GROUP BY hour_of_day\n",
    "               ORDER BY hour_of_day\n",
    "               \"\"\"\n",
    "\n",
    "safe_config = bigquery.QueryJobConfig(maximum_bytes_billed=10**10)\n",
    "speeds_query_job = client.query(speeds_query, job_config=safe_config)\n",
    "\n",
    "# API request - run the query, and return a pandas DataFrame\n",
    "speeds_result = speeds_query_job.to_dataframe()\n",
    "\n",
    "# View results\n",
    "print(speeds_result)\n",
    "\n",
    "# Check your answer\n",
    "q_5.check()"
   ]
  },
  {
   "cell_type": "markdown",
   "id": "320b0172",
   "metadata": {
    "papermill": {
     "duration": 0.013379,
     "end_time": "2024-04-09T16:44:15.379799",
     "exception": false,
     "start_time": "2024-04-09T16:44:15.366420",
     "status": "completed"
    },
    "tags": []
   },
   "source": [
    "For the solution, uncomment the appropriate line below."
   ]
  },
  {
   "cell_type": "code",
   "execution_count": 13,
   "id": "b6ac4b8c",
   "metadata": {
    "execution": {
     "iopub.execute_input": "2024-04-09T16:44:15.407956Z",
     "iopub.status.busy": "2024-04-09T16:44:15.407507Z",
     "iopub.status.idle": "2024-04-09T16:44:15.412231Z",
     "shell.execute_reply": "2024-04-09T16:44:15.410847Z"
    },
    "papermill": {
     "duration": 0.022441,
     "end_time": "2024-04-09T16:44:15.414842",
     "exception": false,
     "start_time": "2024-04-09T16:44:15.392401",
     "status": "completed"
    },
    "tags": []
   },
   "outputs": [],
   "source": [
    "#q_5.solution()"
   ]
  },
  {
   "cell_type": "markdown",
   "id": "ae08a8d3",
   "metadata": {
    "papermill": {
     "duration": 0.01221,
     "end_time": "2024-04-09T16:44:15.439915",
     "exception": false,
     "start_time": "2024-04-09T16:44:15.427705",
     "status": "completed"
    },
    "tags": []
   },
   "source": [
    "That's a hard query. If you made good progress towards the solution, congratulations!"
   ]
  },
  {
   "cell_type": "markdown",
   "id": "bd8390ec",
   "metadata": {
    "papermill": {
     "duration": 0.013248,
     "end_time": "2024-04-09T16:44:15.467481",
     "exception": false,
     "start_time": "2024-04-09T16:44:15.454233",
     "status": "completed"
    },
    "tags": []
   },
   "source": [
    "# Keep going\n",
    "\n",
    "You can write very complex queries now with a single data source. But nothing expands the horizons of SQL as much as the ability to combine or **JOIN** tables.\n",
    "\n",
    "**[Click here](https://www.kaggle.com/dansbecker/joining-data)** to start the last lesson in the Intro to SQL course."
   ]
  },
  {
   "cell_type": "markdown",
   "id": "3a1d67f2",
   "metadata": {
    "papermill": {
     "duration": 0.011952,
     "end_time": "2024-04-09T16:44:15.491729",
     "exception": false,
     "start_time": "2024-04-09T16:44:15.479777",
     "status": "completed"
    },
    "tags": []
   },
   "source": [
    "---\n",
    "\n",
    "\n",
    "\n",
    "\n",
    "*Have questions or comments? Visit the [course discussion forum](https://www.kaggle.com/learn/intro-to-sql/discussion) to chat with other learners.*"
   ]
  }
 ],
 "metadata": {
  "kaggle": {
   "accelerator": "none",
   "dataSources": [
    {
     "datasetId": 22219,
     "sourceId": 28536,
     "sourceType": "datasetVersion"
    },
    {
     "datasetId": 11496,
     "sourceId": 285947,
     "sourceType": "datasetVersion"
    }
   ],
   "isGpuEnabled": false,
   "isInternetEnabled": true,
   "language": "python",
   "sourceType": "notebook"
  },
  "kernelspec": {
   "display_name": "Python 3",
   "language": "python",
   "name": "python3"
  },
  "language_info": {
   "codemirror_mode": {
    "name": "ipython",
    "version": 3
   },
   "file_extension": ".py",
   "mimetype": "text/x-python",
   "name": "python",
   "nbconvert_exporter": "python",
   "pygments_lexer": "ipython3",
   "version": "3.10.13"
  },
  "papermill": {
   "default_parameters": {},
   "duration": 55.989844,
   "end_time": "2024-04-09T16:44:16.328115",
   "environment_variables": {},
   "exception": null,
   "input_path": "__notebook__.ipynb",
   "output_path": "__notebook__.ipynb",
   "parameters": {},
   "start_time": "2024-04-09T16:43:20.338271",
   "version": "2.5.0"
  }
 },
 "nbformat": 4,
 "nbformat_minor": 5
}
