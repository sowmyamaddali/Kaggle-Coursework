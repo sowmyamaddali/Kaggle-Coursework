{
 "cells": [
  {
   "cell_type": "markdown",
   "id": "8c5b9426",
   "metadata": {
    "papermill": {
     "duration": 0.006592,
     "end_time": "2024-04-10T23:53:06.058866",
     "exception": false,
     "start_time": "2024-04-10T23:53:06.052274",
     "status": "completed"
    },
    "tags": []
   },
   "source": [
    "**This notebook is an exercise in the [Data Cleaning](https://www.kaggle.com/learn/data-cleaning) course.  You can reference the tutorial at [this link](https://www.kaggle.com/alexisbcook/handling-missing-values).**\n",
    "\n",
    "---\n"
   ]
  },
  {
   "cell_type": "markdown",
   "id": "e8ab5ce1",
   "metadata": {
    "papermill": {
     "duration": 0.005768,
     "end_time": "2024-04-10T23:53:06.070926",
     "exception": false,
     "start_time": "2024-04-10T23:53:06.065158",
     "status": "completed"
    },
    "tags": []
   },
   "source": [
    "In this exercise, you'll apply what you learned in the **Handling missing values** tutorial.\n",
    "\n",
    "# Setup\n",
    "\n",
    "The questions below will give you feedback on your work. Run the following cell to set up the feedback system."
   ]
  },
  {
   "cell_type": "code",
   "execution_count": 1,
   "id": "9f08dbc4",
   "metadata": {
    "execution": {
     "iopub.execute_input": "2024-04-10T23:53:06.084673Z",
     "iopub.status.busy": "2024-04-10T23:53:06.083797Z",
     "iopub.status.idle": "2024-04-10T23:53:12.153543Z",
     "shell.execute_reply": "2024-04-10T23:53:12.152097Z"
    },
    "papermill": {
     "duration": 6.079144,
     "end_time": "2024-04-10T23:53:12.155963",
     "exception": false,
     "start_time": "2024-04-10T23:53:06.076819",
     "status": "completed"
    },
    "tags": []
   },
   "outputs": [
    {
     "name": "stderr",
     "output_type": "stream",
     "text": [
      "/opt/conda/lib/python3.10/site-packages/learntools/data_cleaning/ex1.py:6: DtypeWarning: Columns (22,32) have mixed types. Specify dtype option on import or set low_memory=False.\n",
      "  sf_permits = pd.read_csv(\"../input/building-permit-applications-data/Building_Permits.csv\")\n",
      "/tmp/ipykernel_18/3419995878.py:3: DeprecationWarning: `product` is deprecated as of NumPy 1.25.0, and will be removed in NumPy 2.0. Please use `prod` instead.\n",
      "  from learntools.data_cleaning.ex1 import *\n",
      "/opt/conda/lib/python3.10/site-packages/learntools/data_cleaning/ex1.py:69: FutureWarning: DataFrame.fillna with 'method' is deprecated and will raise in a future version. Use obj.ffill() or obj.bfill() instead.\n",
      "  _expected = sf_permits.fillna(method='bfill', axis=0).fillna(0)\n"
     ]
    },
    {
     "name": "stdout",
     "output_type": "stream",
     "text": [
      "Setup Complete\n"
     ]
    }
   ],
   "source": [
    "from learntools.core import binder\n",
    "binder.bind(globals())\n",
    "from learntools.data_cleaning.ex1 import *\n",
    "print(\"Setup Complete\")"
   ]
  },
  {
   "cell_type": "markdown",
   "id": "c2f0c7c6",
   "metadata": {
    "papermill": {
     "duration": 0.006014,
     "end_time": "2024-04-10T23:53:12.168543",
     "exception": false,
     "start_time": "2024-04-10T23:53:12.162529",
     "status": "completed"
    },
    "tags": []
   },
   "source": [
    "# 1) Take a first look at the data\n",
    "\n",
    "Run the next code cell to load in the libraries and dataset you'll use to complete the exercise."
   ]
  },
  {
   "cell_type": "code",
   "execution_count": 2,
   "id": "9fba5c0a",
   "metadata": {
    "execution": {
     "iopub.execute_input": "2024-04-10T23:53:12.182993Z",
     "iopub.status.busy": "2024-04-10T23:53:12.182059Z",
     "iopub.status.idle": "2024-04-10T23:53:13.999776Z",
     "shell.execute_reply": "2024-04-10T23:53:13.998737Z"
    },
    "papermill": {
     "duration": 1.827953,
     "end_time": "2024-04-10T23:53:14.002710",
     "exception": false,
     "start_time": "2024-04-10T23:53:12.174757",
     "status": "completed"
    },
    "tags": []
   },
   "outputs": [
    {
     "name": "stderr",
     "output_type": "stream",
     "text": [
      "/tmp/ipykernel_18/3534875831.py:6: DtypeWarning: Columns (22,32) have mixed types. Specify dtype option on import or set low_memory=False.\n",
      "  sf_permits = pd.read_csv(\"../input/building-permit-applications-data/Building_Permits.csv\")\n"
     ]
    }
   ],
   "source": [
    "# modules we'll use\n",
    "import pandas as pd\n",
    "import numpy as np\n",
    "\n",
    "# read in all our data\n",
    "sf_permits = pd.read_csv(\"../input/building-permit-applications-data/Building_Permits.csv\")\n",
    "\n",
    "# set seed for reproducibility\n",
    "np.random.seed(0) "
   ]
  },
  {
   "cell_type": "markdown",
   "id": "16f099ee",
   "metadata": {
    "papermill": {
     "duration": 0.009167,
     "end_time": "2024-04-10T23:53:14.021753",
     "exception": false,
     "start_time": "2024-04-10T23:53:14.012586",
     "status": "completed"
    },
    "tags": []
   },
   "source": [
    "Use the code cell below to print the first five rows of the `sf_permits` DataFrame."
   ]
  },
  {
   "cell_type": "code",
   "execution_count": 3,
   "id": "e33d9ffa",
   "metadata": {
    "execution": {
     "iopub.execute_input": "2024-04-10T23:53:14.041705Z",
     "iopub.status.busy": "2024-04-10T23:53:14.041252Z",
     "iopub.status.idle": "2024-04-10T23:53:14.077858Z",
     "shell.execute_reply": "2024-04-10T23:53:14.076644Z"
    },
    "papermill": {
     "duration": 0.050222,
     "end_time": "2024-04-10T23:53:14.081694",
     "exception": false,
     "start_time": "2024-04-10T23:53:14.031472",
     "status": "completed"
    },
    "tags": []
   },
   "outputs": [
    {
     "data": {
      "text/html": [
       "<div>\n",
       "<style scoped>\n",
       "    .dataframe tbody tr th:only-of-type {\n",
       "        vertical-align: middle;\n",
       "    }\n",
       "\n",
       "    .dataframe tbody tr th {\n",
       "        vertical-align: top;\n",
       "    }\n",
       "\n",
       "    .dataframe thead th {\n",
       "        text-align: right;\n",
       "    }\n",
       "</style>\n",
       "<table border=\"1\" class=\"dataframe\">\n",
       "  <thead>\n",
       "    <tr style=\"text-align: right;\">\n",
       "      <th></th>\n",
       "      <th>Permit Number</th>\n",
       "      <th>Permit Type</th>\n",
       "      <th>Permit Type Definition</th>\n",
       "      <th>Permit Creation Date</th>\n",
       "      <th>Block</th>\n",
       "      <th>Lot</th>\n",
       "      <th>Street Number</th>\n",
       "      <th>Street Number Suffix</th>\n",
       "      <th>Street Name</th>\n",
       "      <th>Street Suffix</th>\n",
       "      <th>...</th>\n",
       "      <th>Existing Construction Type</th>\n",
       "      <th>Existing Construction Type Description</th>\n",
       "      <th>Proposed Construction Type</th>\n",
       "      <th>Proposed Construction Type Description</th>\n",
       "      <th>Site Permit</th>\n",
       "      <th>Supervisor District</th>\n",
       "      <th>Neighborhoods - Analysis Boundaries</th>\n",
       "      <th>Zipcode</th>\n",
       "      <th>Location</th>\n",
       "      <th>Record ID</th>\n",
       "    </tr>\n",
       "  </thead>\n",
       "  <tbody>\n",
       "    <tr>\n",
       "      <th>0</th>\n",
       "      <td>201505065519</td>\n",
       "      <td>4</td>\n",
       "      <td>sign - erect</td>\n",
       "      <td>05/06/2015</td>\n",
       "      <td>0326</td>\n",
       "      <td>023</td>\n",
       "      <td>140</td>\n",
       "      <td>NaN</td>\n",
       "      <td>Ellis</td>\n",
       "      <td>St</td>\n",
       "      <td>...</td>\n",
       "      <td>3.0</td>\n",
       "      <td>constr type 3</td>\n",
       "      <td>NaN</td>\n",
       "      <td>NaN</td>\n",
       "      <td>NaN</td>\n",
       "      <td>3.0</td>\n",
       "      <td>Tenderloin</td>\n",
       "      <td>94102.0</td>\n",
       "      <td>(37.785719256680785, -122.40852313194863)</td>\n",
       "      <td>1380611233945</td>\n",
       "    </tr>\n",
       "    <tr>\n",
       "      <th>1</th>\n",
       "      <td>201604195146</td>\n",
       "      <td>4</td>\n",
       "      <td>sign - erect</td>\n",
       "      <td>04/19/2016</td>\n",
       "      <td>0306</td>\n",
       "      <td>007</td>\n",
       "      <td>440</td>\n",
       "      <td>NaN</td>\n",
       "      <td>Geary</td>\n",
       "      <td>St</td>\n",
       "      <td>...</td>\n",
       "      <td>3.0</td>\n",
       "      <td>constr type 3</td>\n",
       "      <td>NaN</td>\n",
       "      <td>NaN</td>\n",
       "      <td>NaN</td>\n",
       "      <td>3.0</td>\n",
       "      <td>Tenderloin</td>\n",
       "      <td>94102.0</td>\n",
       "      <td>(37.78733980600732, -122.41063199757738)</td>\n",
       "      <td>1420164406718</td>\n",
       "    </tr>\n",
       "    <tr>\n",
       "      <th>2</th>\n",
       "      <td>201605278609</td>\n",
       "      <td>3</td>\n",
       "      <td>additions alterations or repairs</td>\n",
       "      <td>05/27/2016</td>\n",
       "      <td>0595</td>\n",
       "      <td>203</td>\n",
       "      <td>1647</td>\n",
       "      <td>NaN</td>\n",
       "      <td>Pacific</td>\n",
       "      <td>Av</td>\n",
       "      <td>...</td>\n",
       "      <td>1.0</td>\n",
       "      <td>constr type 1</td>\n",
       "      <td>1.0</td>\n",
       "      <td>constr type 1</td>\n",
       "      <td>NaN</td>\n",
       "      <td>3.0</td>\n",
       "      <td>Russian Hill</td>\n",
       "      <td>94109.0</td>\n",
       "      <td>(37.7946573324287, -122.42232562979227)</td>\n",
       "      <td>1424856504716</td>\n",
       "    </tr>\n",
       "    <tr>\n",
       "      <th>3</th>\n",
       "      <td>201611072166</td>\n",
       "      <td>8</td>\n",
       "      <td>otc alterations permit</td>\n",
       "      <td>11/07/2016</td>\n",
       "      <td>0156</td>\n",
       "      <td>011</td>\n",
       "      <td>1230</td>\n",
       "      <td>NaN</td>\n",
       "      <td>Pacific</td>\n",
       "      <td>Av</td>\n",
       "      <td>...</td>\n",
       "      <td>5.0</td>\n",
       "      <td>wood frame (5)</td>\n",
       "      <td>5.0</td>\n",
       "      <td>wood frame (5)</td>\n",
       "      <td>NaN</td>\n",
       "      <td>3.0</td>\n",
       "      <td>Nob Hill</td>\n",
       "      <td>94109.0</td>\n",
       "      <td>(37.79595867909168, -122.41557405519474)</td>\n",
       "      <td>1443574295566</td>\n",
       "    </tr>\n",
       "    <tr>\n",
       "      <th>4</th>\n",
       "      <td>201611283529</td>\n",
       "      <td>6</td>\n",
       "      <td>demolitions</td>\n",
       "      <td>11/28/2016</td>\n",
       "      <td>0342</td>\n",
       "      <td>001</td>\n",
       "      <td>950</td>\n",
       "      <td>NaN</td>\n",
       "      <td>Market</td>\n",
       "      <td>St</td>\n",
       "      <td>...</td>\n",
       "      <td>3.0</td>\n",
       "      <td>constr type 3</td>\n",
       "      <td>NaN</td>\n",
       "      <td>NaN</td>\n",
       "      <td>NaN</td>\n",
       "      <td>6.0</td>\n",
       "      <td>Tenderloin</td>\n",
       "      <td>94102.0</td>\n",
       "      <td>(37.78315261897309, -122.40950883997789)</td>\n",
       "      <td>144548169992</td>\n",
       "    </tr>\n",
       "  </tbody>\n",
       "</table>\n",
       "<p>5 rows × 43 columns</p>\n",
       "</div>"
      ],
      "text/plain": [
       "  Permit Number  Permit Type            Permit Type Definition  \\\n",
       "0  201505065519            4                      sign - erect   \n",
       "1  201604195146            4                      sign - erect   \n",
       "2  201605278609            3  additions alterations or repairs   \n",
       "3  201611072166            8            otc alterations permit   \n",
       "4  201611283529            6                       demolitions   \n",
       "\n",
       "  Permit Creation Date Block  Lot  Street Number Street Number Suffix  \\\n",
       "0           05/06/2015  0326  023            140                  NaN   \n",
       "1           04/19/2016  0306  007            440                  NaN   \n",
       "2           05/27/2016  0595  203           1647                  NaN   \n",
       "3           11/07/2016  0156  011           1230                  NaN   \n",
       "4           11/28/2016  0342  001            950                  NaN   \n",
       "\n",
       "  Street Name Street Suffix  ...  Existing Construction Type  \\\n",
       "0       Ellis            St  ...                         3.0   \n",
       "1       Geary            St  ...                         3.0   \n",
       "2     Pacific            Av  ...                         1.0   \n",
       "3     Pacific            Av  ...                         5.0   \n",
       "4      Market            St  ...                         3.0   \n",
       "\n",
       "  Existing Construction Type Description Proposed Construction Type  \\\n",
       "0                          constr type 3                        NaN   \n",
       "1                          constr type 3                        NaN   \n",
       "2                          constr type 1                        1.0   \n",
       "3                         wood frame (5)                        5.0   \n",
       "4                          constr type 3                        NaN   \n",
       "\n",
       "  Proposed Construction Type Description Site Permit Supervisor District  \\\n",
       "0                                    NaN         NaN                 3.0   \n",
       "1                                    NaN         NaN                 3.0   \n",
       "2                          constr type 1         NaN                 3.0   \n",
       "3                         wood frame (5)         NaN                 3.0   \n",
       "4                                    NaN         NaN                 6.0   \n",
       "\n",
       "  Neighborhoods - Analysis Boundaries  Zipcode  \\\n",
       "0                          Tenderloin  94102.0   \n",
       "1                          Tenderloin  94102.0   \n",
       "2                        Russian Hill  94109.0   \n",
       "3                            Nob Hill  94109.0   \n",
       "4                          Tenderloin  94102.0   \n",
       "\n",
       "                                    Location      Record ID  \n",
       "0  (37.785719256680785, -122.40852313194863)  1380611233945  \n",
       "1   (37.78733980600732, -122.41063199757738)  1420164406718  \n",
       "2    (37.7946573324287, -122.42232562979227)  1424856504716  \n",
       "3   (37.79595867909168, -122.41557405519474)  1443574295566  \n",
       "4   (37.78315261897309, -122.40950883997789)   144548169992  \n",
       "\n",
       "[5 rows x 43 columns]"
      ]
     },
     "execution_count": 3,
     "metadata": {},
     "output_type": "execute_result"
    }
   ],
   "source": [
    "# TODO: Your code here!\n",
    "sf_permits.head()"
   ]
  },
  {
   "cell_type": "markdown",
   "id": "299ccda5",
   "metadata": {
    "papermill": {
     "duration": 0.007564,
     "end_time": "2024-04-10T23:53:14.098132",
     "exception": false,
     "start_time": "2024-04-10T23:53:14.090568",
     "status": "completed"
    },
    "tags": []
   },
   "source": [
    "Does the dataset have any missing values?  Once you have an answer, run the code cell below to get credit for your work."
   ]
  },
  {
   "cell_type": "code",
   "execution_count": 4,
   "id": "3cee5a1f",
   "metadata": {
    "execution": {
     "iopub.execute_input": "2024-04-10T23:53:14.114151Z",
     "iopub.status.busy": "2024-04-10T23:53:14.113319Z",
     "iopub.status.idle": "2024-04-10T23:53:14.121867Z",
     "shell.execute_reply": "2024-04-10T23:53:14.120958Z"
    },
    "papermill": {
     "duration": 0.018733,
     "end_time": "2024-04-10T23:53:14.123772",
     "exception": false,
     "start_time": "2024-04-10T23:53:14.105039",
     "status": "completed"
    },
    "tags": []
   },
   "outputs": [
    {
     "data": {
      "application/javascript": [
       "parent.postMessage({\"jupyterEvent\": \"custom.exercise_interaction\", \"data\": {\"outcomeType\": 1, \"valueTowardsCompletion\": 0.16666666666666666, \"interactionType\": 1, \"questionType\": 4, \"questionId\": \"1_TakeFirstLook\", \"learnToolsVersion\": \"0.3.4\", \"failureMessage\": \"\", \"exceptionClass\": \"\", \"trace\": \"\"}}, \"*\")"
      ],
      "text/plain": [
       "<IPython.core.display.Javascript object>"
      ]
     },
     "metadata": {},
     "output_type": "display_data"
    },
    {
     "data": {
      "text/markdown": [
       "<span style=\"color:#33cc33\">Correct:</span> \n",
       "\n",
       "The first five rows of the data does show that several columns have missing values.  You can see this in the \"Street Number Suffix\", \"Proposed Construction Type\" and \"Site Permit\" columns, among others."
      ],
      "text/plain": [
       "Correct: \n",
       "\n",
       "The first five rows of the data does show that several columns have missing values.  You can see this in the \"Street Number Suffix\", \"Proposed Construction Type\" and \"Site Permit\" columns, among others."
      ]
     },
     "metadata": {},
     "output_type": "display_data"
    }
   ],
   "source": [
    "# Check your answer (Run this code cell to receive credit!)\n",
    "q1.check()"
   ]
  },
  {
   "cell_type": "code",
   "execution_count": 5,
   "id": "b5841bae",
   "metadata": {
    "execution": {
     "iopub.execute_input": "2024-04-10T23:53:14.143964Z",
     "iopub.status.busy": "2024-04-10T23:53:14.143167Z",
     "iopub.status.idle": "2024-04-10T23:53:14.148305Z",
     "shell.execute_reply": "2024-04-10T23:53:14.146982Z"
    },
    "papermill": {
     "duration": 0.020082,
     "end_time": "2024-04-10T23:53:14.150835",
     "exception": false,
     "start_time": "2024-04-10T23:53:14.130753",
     "status": "completed"
    },
    "tags": []
   },
   "outputs": [],
   "source": [
    "# Line below will give you a hint\n",
    "#q1.hint()"
   ]
  },
  {
   "cell_type": "markdown",
   "id": "ff08dcca",
   "metadata": {
    "papermill": {
     "duration": 0.008413,
     "end_time": "2024-04-10T23:53:14.167722",
     "exception": false,
     "start_time": "2024-04-10T23:53:14.159309",
     "status": "completed"
    },
    "tags": []
   },
   "source": [
    "# 2) How many missing data points do we have?\n",
    "\n",
    "What percentage of the values in the dataset are missing?  Your answer should be a number between 0 and 100.  (If 1/4 of the values in the dataset are missing, the answer is 25.)"
   ]
  },
  {
   "cell_type": "code",
   "execution_count": 6,
   "id": "3c015906",
   "metadata": {
    "execution": {
     "iopub.execute_input": "2024-04-10T23:53:14.185168Z",
     "iopub.status.busy": "2024-04-10T23:53:14.184057Z",
     "iopub.status.idle": "2024-04-10T23:53:14.446003Z",
     "shell.execute_reply": "2024-04-10T23:53:14.445042Z"
    },
    "papermill": {
     "duration": 0.273114,
     "end_time": "2024-04-10T23:53:14.448529",
     "exception": false,
     "start_time": "2024-04-10T23:53:14.175415",
     "status": "completed"
    },
    "tags": []
   },
   "outputs": [],
   "source": [
    "# get the number of missing data points per column\n",
    "missing_values_count = sf_permits.isnull().sum()\n",
    "\n",
    "# how many total missing values do we have?\n",
    "total_cells = np.product(sf_permits.shape)\n",
    "total_missing = missing_values_count.sum()"
   ]
  },
  {
   "cell_type": "code",
   "execution_count": 7,
   "id": "44d0a63f",
   "metadata": {
    "execution": {
     "iopub.execute_input": "2024-04-10T23:53:14.465144Z",
     "iopub.status.busy": "2024-04-10T23:53:14.464757Z",
     "iopub.status.idle": "2024-04-10T23:53:14.473478Z",
     "shell.execute_reply": "2024-04-10T23:53:14.472408Z"
    },
    "papermill": {
     "duration": 0.019165,
     "end_time": "2024-04-10T23:53:14.475591",
     "exception": false,
     "start_time": "2024-04-10T23:53:14.456426",
     "status": "completed"
    },
    "tags": []
   },
   "outputs": [
    {
     "data": {
      "application/javascript": [
       "parent.postMessage({\"jupyterEvent\": \"custom.exercise_interaction\", \"data\": {\"outcomeType\": 1, \"valueTowardsCompletion\": 0.16666666666666666, \"interactionType\": 1, \"questionType\": 1, \"questionId\": \"2_PercentMissingValues\", \"learnToolsVersion\": \"0.3.4\", \"failureMessage\": \"\", \"exceptionClass\": \"\", \"trace\": \"\"}}, \"*\")"
      ],
      "text/plain": [
       "<IPython.core.display.Javascript object>"
      ]
     },
     "metadata": {},
     "output_type": "display_data"
    },
    {
     "data": {
      "text/markdown": [
       "<span style=\"color:#33cc33\">Correct</span>"
      ],
      "text/plain": [
       "Correct"
      ]
     },
     "metadata": {},
     "output_type": "display_data"
    }
   ],
   "source": [
    "# TODO: Your code here!\n",
    "percent_missing = (total_missing/total_cells) * 100\n",
    "\n",
    "# Check your answer\n",
    "q2.check()"
   ]
  },
  {
   "cell_type": "code",
   "execution_count": 8,
   "id": "9aec8129",
   "metadata": {
    "execution": {
     "iopub.execute_input": "2024-04-10T23:53:14.492212Z",
     "iopub.status.busy": "2024-04-10T23:53:14.491488Z",
     "iopub.status.idle": "2024-04-10T23:53:14.496328Z",
     "shell.execute_reply": "2024-04-10T23:53:14.495156Z"
    },
    "papermill": {
     "duration": 0.015326,
     "end_time": "2024-04-10T23:53:14.498383",
     "exception": false,
     "start_time": "2024-04-10T23:53:14.483057",
     "status": "completed"
    },
    "tags": []
   },
   "outputs": [],
   "source": [
    "# Lines below will give you a hint or solution code\n",
    "#q2.hint()\n",
    "#q2.solution()"
   ]
  },
  {
   "cell_type": "markdown",
   "id": "7bcfb3ba",
   "metadata": {
    "papermill": {
     "duration": 0.007227,
     "end_time": "2024-04-10T23:53:14.513269",
     "exception": false,
     "start_time": "2024-04-10T23:53:14.506042",
     "status": "completed"
    },
    "tags": []
   },
   "source": [
    "# 3) Figure out why the data is missing\n",
    "\n",
    "Look at the columns **\"Street Number Suffix\"** and **\"Zipcode\"** from the [San Francisco Building Permits dataset](https://www.kaggle.com/aparnashastry/building-permit-applications-data). Both of these contain missing values. \n",
    "- Which, if either, are missing because they don't exist? \n",
    "- Which, if either, are missing because they weren't recorded?  \n",
    "\n",
    "Once you have an answer, run the code cell below."
   ]
  },
  {
   "cell_type": "code",
   "execution_count": 9,
   "id": "7f3f3c03",
   "metadata": {
    "execution": {
     "iopub.execute_input": "2024-04-10T23:53:14.530480Z",
     "iopub.status.busy": "2024-04-10T23:53:14.529999Z",
     "iopub.status.idle": "2024-04-10T23:53:14.539363Z",
     "shell.execute_reply": "2024-04-10T23:53:14.538293Z"
    },
    "papermill": {
     "duration": 0.020691,
     "end_time": "2024-04-10T23:53:14.541600",
     "exception": false,
     "start_time": "2024-04-10T23:53:14.520909",
     "status": "completed"
    },
    "tags": []
   },
   "outputs": [
    {
     "data": {
      "application/javascript": [
       "parent.postMessage({\"jupyterEvent\": \"custom.exercise_interaction\", \"data\": {\"outcomeType\": 1, \"valueTowardsCompletion\": 0.16666666666666666, \"interactionType\": 1, \"questionType\": 4, \"questionId\": \"3_WhyDataMissing\", \"learnToolsVersion\": \"0.3.4\", \"failureMessage\": \"\", \"exceptionClass\": \"\", \"trace\": \"\"}}, \"*\")"
      ],
      "text/plain": [
       "<IPython.core.display.Javascript object>"
      ]
     },
     "metadata": {},
     "output_type": "display_data"
    },
    {
     "data": {
      "text/markdown": [
       "<span style=\"color:#33cc33\">Correct:</span> \n",
       "\n",
       "If a value in the \"Street Number Suffix\" column is missing, it is likely because it does not exist. If a value in the \"Zipcode\" column is missing, it was not recorded."
      ],
      "text/plain": [
       "Correct: \n",
       "\n",
       "If a value in the \"Street Number Suffix\" column is missing, it is likely because it does not exist. If a value in the \"Zipcode\" column is missing, it was not recorded."
      ]
     },
     "metadata": {},
     "output_type": "display_data"
    }
   ],
   "source": [
    "# Check your answer (Run this code cell to receive credit!)\n",
    "q3.check()"
   ]
  },
  {
   "cell_type": "code",
   "execution_count": 10,
   "id": "b6a920eb",
   "metadata": {
    "execution": {
     "iopub.execute_input": "2024-04-10T23:53:14.559158Z",
     "iopub.status.busy": "2024-04-10T23:53:14.558710Z",
     "iopub.status.idle": "2024-04-10T23:53:14.563622Z",
     "shell.execute_reply": "2024-04-10T23:53:14.562351Z"
    },
    "papermill": {
     "duration": 0.016196,
     "end_time": "2024-04-10T23:53:14.565816",
     "exception": false,
     "start_time": "2024-04-10T23:53:14.549620",
     "status": "completed"
    },
    "tags": []
   },
   "outputs": [],
   "source": [
    "# Line below will give you a hint\n",
    "#q3.hint()"
   ]
  },
  {
   "cell_type": "markdown",
   "id": "c061578d",
   "metadata": {
    "papermill": {
     "duration": 0.007415,
     "end_time": "2024-04-10T23:53:14.580927",
     "exception": false,
     "start_time": "2024-04-10T23:53:14.573512",
     "status": "completed"
    },
    "tags": []
   },
   "source": [
    "# 4) Drop missing values: rows\n",
    "\n",
    "If you removed all of the rows of `sf_permits` with missing values, how many rows are left?\n",
    "\n",
    "**Note**: Do not change the value of `sf_permits` when checking this.  "
   ]
  },
  {
   "cell_type": "code",
   "execution_count": 11,
   "id": "8bbb988f",
   "metadata": {
    "execution": {
     "iopub.execute_input": "2024-04-10T23:53:14.597882Z",
     "iopub.status.busy": "2024-04-10T23:53:14.597449Z",
     "iopub.status.idle": "2024-04-10T23:53:14.844273Z",
     "shell.execute_reply": "2024-04-10T23:53:14.843158Z"
    },
    "papermill": {
     "duration": 0.257883,
     "end_time": "2024-04-10T23:53:14.846331",
     "exception": false,
     "start_time": "2024-04-10T23:53:14.588448",
     "status": "completed"
    },
    "tags": []
   },
   "outputs": [
    {
     "name": "stdout",
     "output_type": "stream",
     "text": [
      "Empty DataFrame\n",
      "Columns: [Permit Number, Permit Type, Permit Type Definition, Permit Creation Date, Block, Lot, Street Number, Street Number Suffix, Street Name, Street Suffix, Unit, Unit Suffix, Description, Current Status, Current Status Date, Filed Date, Issued Date, Completed Date, First Construction Document Date, Structural Notification, Number of Existing Stories, Number of Proposed Stories, Voluntary Soft-Story Retrofit, Fire Only Permit, Permit Expiration Date, Estimated Cost, Revised Cost, Existing Use, Existing Units, Proposed Use, Proposed Units, Plansets, TIDF Compliance, Existing Construction Type, Existing Construction Type Description, Proposed Construction Type, Proposed Construction Type Description, Site Permit, Supervisor District, Neighborhoods - Analysis Boundaries, Zipcode, Location, Record ID]\n",
      "Index: []\n",
      "\n",
      "[0 rows x 43 columns]\n"
     ]
    }
   ],
   "source": [
    "# TODO: Your code here!\n",
    "afterDrop = sf_permits.dropna()\n",
    "print(afterDrop)"
   ]
  },
  {
   "cell_type": "markdown",
   "id": "91eac2cb",
   "metadata": {
    "papermill": {
     "duration": 0.007318,
     "end_time": "2024-04-10T23:53:14.861485",
     "exception": false,
     "start_time": "2024-04-10T23:53:14.854167",
     "status": "completed"
    },
    "tags": []
   },
   "source": [
    "Once you have an answer, run the code cell below."
   ]
  },
  {
   "cell_type": "code",
   "execution_count": 12,
   "id": "da6d2da3",
   "metadata": {
    "execution": {
     "iopub.execute_input": "2024-04-10T23:53:14.878701Z",
     "iopub.status.busy": "2024-04-10T23:53:14.877866Z",
     "iopub.status.idle": "2024-04-10T23:53:14.885449Z",
     "shell.execute_reply": "2024-04-10T23:53:14.884561Z"
    },
    "papermill": {
     "duration": 0.018283,
     "end_time": "2024-04-10T23:53:14.887385",
     "exception": false,
     "start_time": "2024-04-10T23:53:14.869102",
     "status": "completed"
    },
    "tags": []
   },
   "outputs": [
    {
     "data": {
      "application/javascript": [
       "parent.postMessage({\"jupyterEvent\": \"custom.exercise_interaction\", \"data\": {\"outcomeType\": 1, \"valueTowardsCompletion\": 0.16666666666666666, \"interactionType\": 1, \"questionType\": 4, \"questionId\": \"4_DropMissingRows\", \"learnToolsVersion\": \"0.3.4\", \"failureMessage\": \"\", \"exceptionClass\": \"\", \"trace\": \"\"}}, \"*\")"
      ],
      "text/plain": [
       "<IPython.core.display.Javascript object>"
      ]
     },
     "metadata": {},
     "output_type": "display_data"
    },
    {
     "data": {
      "text/markdown": [
       "<span style=\"color:#33cc33\">Correct:</span> \n",
       "\n",
       "There are no rows remaining in the dataset!"
      ],
      "text/plain": [
       "Correct: \n",
       "\n",
       "There are no rows remaining in the dataset!"
      ]
     },
     "metadata": {},
     "output_type": "display_data"
    }
   ],
   "source": [
    "# Check your answer (Run this code cell to receive credit!)\n",
    "q4.check()"
   ]
  },
  {
   "cell_type": "code",
   "execution_count": 13,
   "id": "5376d0c7",
   "metadata": {
    "execution": {
     "iopub.execute_input": "2024-04-10T23:53:14.904463Z",
     "iopub.status.busy": "2024-04-10T23:53:14.904105Z",
     "iopub.status.idle": "2024-04-10T23:53:14.907782Z",
     "shell.execute_reply": "2024-04-10T23:53:14.907068Z"
    },
    "papermill": {
     "duration": 0.01431,
     "end_time": "2024-04-10T23:53:14.909540",
     "exception": false,
     "start_time": "2024-04-10T23:53:14.895230",
     "status": "completed"
    },
    "tags": []
   },
   "outputs": [],
   "source": [
    "# Line below will give you a hint\n",
    "#q4.hint()"
   ]
  },
  {
   "cell_type": "markdown",
   "id": "31828ba8",
   "metadata": {
    "papermill": {
     "duration": 0.007678,
     "end_time": "2024-04-10T23:53:14.925226",
     "exception": false,
     "start_time": "2024-04-10T23:53:14.917548",
     "status": "completed"
    },
    "tags": []
   },
   "source": [
    "# 5) Drop missing values: columns\n",
    "\n",
    "Now try removing all the columns with empty values.  \n",
    "- Create a new DataFrame called `sf_permits_with_na_dropped` that has all of the columns with empty values removed.  \n",
    "- How many columns were removed from the original `sf_permits` DataFrame? Use this number to set the value of the `dropped_columns` variable below."
   ]
  },
  {
   "cell_type": "code",
   "execution_count": 14,
   "id": "fe0b0051",
   "metadata": {
    "execution": {
     "iopub.execute_input": "2024-04-10T23:53:14.943344Z",
     "iopub.status.busy": "2024-04-10T23:53:14.942431Z",
     "iopub.status.idle": "2024-04-10T23:53:15.202486Z",
     "shell.execute_reply": "2024-04-10T23:53:15.201655Z"
    },
    "papermill": {
     "duration": 0.271443,
     "end_time": "2024-04-10T23:53:15.204553",
     "exception": false,
     "start_time": "2024-04-10T23:53:14.933110",
     "status": "completed"
    },
    "tags": []
   },
   "outputs": [
    {
     "data": {
      "application/javascript": [
       "parent.postMessage({\"jupyterEvent\": \"custom.exercise_interaction\", \"data\": {\"outcomeType\": 1, \"valueTowardsCompletion\": 0.16666666666666666, \"interactionType\": 1, \"questionType\": 1, \"questionId\": \"5_DropMissingCols\", \"learnToolsVersion\": \"0.3.4\", \"failureMessage\": \"\", \"exceptionClass\": \"\", \"trace\": \"\"}}, \"*\")"
      ],
      "text/plain": [
       "<IPython.core.display.Javascript object>"
      ]
     },
     "metadata": {},
     "output_type": "display_data"
    },
    {
     "data": {
      "text/markdown": [
       "<span style=\"color:#33cc33\">Correct</span>"
      ],
      "text/plain": [
       "Correct"
      ]
     },
     "metadata": {},
     "output_type": "display_data"
    }
   ],
   "source": [
    "# TODO: Your code here\n",
    "sf_permits_with_na_dropped = sf_permits.dropna(axis=1)\n",
    "#print(sf_permits_with_na_dropped)\n",
    "\n",
    "dropped_columns = 31\n",
    "\n",
    "# Check your answer\n",
    "q5.check()"
   ]
  },
  {
   "cell_type": "code",
   "execution_count": 15,
   "id": "df506504",
   "metadata": {
    "execution": {
     "iopub.execute_input": "2024-04-10T23:53:15.223342Z",
     "iopub.status.busy": "2024-04-10T23:53:15.222621Z",
     "iopub.status.idle": "2024-04-10T23:53:15.226973Z",
     "shell.execute_reply": "2024-04-10T23:53:15.225868Z"
    },
    "papermill": {
     "duration": 0.015872,
     "end_time": "2024-04-10T23:53:15.229042",
     "exception": false,
     "start_time": "2024-04-10T23:53:15.213170",
     "status": "completed"
    },
    "tags": []
   },
   "outputs": [],
   "source": [
    "# Lines below will give you a hint or solution code\n",
    "#q5.hint()\n",
    "#q5.solution()"
   ]
  },
  {
   "cell_type": "markdown",
   "id": "bc81464b",
   "metadata": {
    "papermill": {
     "duration": 0.007921,
     "end_time": "2024-04-10T23:53:15.245255",
     "exception": false,
     "start_time": "2024-04-10T23:53:15.237334",
     "status": "completed"
    },
    "tags": []
   },
   "source": [
    "# 6) Fill in missing values automatically\n",
    "\n",
    "Try replacing all the NaN's in the `sf_permits` data with the one that comes directly after it and then replacing any remaining NaN's with 0.  Set the result to a new DataFrame `sf_permits_with_na_imputed`."
   ]
  },
  {
   "cell_type": "code",
   "execution_count": 16,
   "id": "6ea82391",
   "metadata": {
    "execution": {
     "iopub.execute_input": "2024-04-10T23:53:15.263382Z",
     "iopub.status.busy": "2024-04-10T23:53:15.262985Z",
     "iopub.status.idle": "2024-04-10T23:53:17.496988Z",
     "shell.execute_reply": "2024-04-10T23:53:17.495962Z"
    },
    "papermill": {
     "duration": 2.245435,
     "end_time": "2024-04-10T23:53:17.498876",
     "exception": false,
     "start_time": "2024-04-10T23:53:15.253441",
     "status": "completed"
    },
    "tags": []
   },
   "outputs": [
    {
     "name": "stderr",
     "output_type": "stream",
     "text": [
      "/tmp/ipykernel_18/3167686981.py:2: FutureWarning: DataFrame.fillna with 'method' is deprecated and will raise in a future version. Use obj.ffill() or obj.bfill() instead.\n",
      "  sf_permits_with_na_imputed = sf_permits.fillna(method='bfill', axis=0).fillna(0)\n"
     ]
    },
    {
     "data": {
      "application/javascript": [
       "parent.postMessage({\"jupyterEvent\": \"custom.exercise_interaction\", \"data\": {\"outcomeType\": 1, \"valueTowardsCompletion\": 0.16666666666666666, \"interactionType\": 1, \"questionType\": 1, \"questionId\": \"6_ImputeAutomatically\", \"learnToolsVersion\": \"0.3.4\", \"failureMessage\": \"\", \"exceptionClass\": \"\", \"trace\": \"\"}}, \"*\")"
      ],
      "text/plain": [
       "<IPython.core.display.Javascript object>"
      ]
     },
     "metadata": {},
     "output_type": "display_data"
    },
    {
     "data": {
      "text/markdown": [
       "<span style=\"color:#33cc33\">Correct</span>"
      ],
      "text/plain": [
       "Correct"
      ]
     },
     "metadata": {},
     "output_type": "display_data"
    }
   ],
   "source": [
    "# TODO: Your code here\n",
    "sf_permits_with_na_imputed = sf_permits.fillna(method='bfill', axis=0).fillna(0)\n",
    "\n",
    "# Check your answer\n",
    "q6.check()"
   ]
  },
  {
   "cell_type": "code",
   "execution_count": 17,
   "id": "9bc1f7e8",
   "metadata": {
    "execution": {
     "iopub.execute_input": "2024-04-10T23:53:17.518685Z",
     "iopub.status.busy": "2024-04-10T23:53:17.517792Z",
     "iopub.status.idle": "2024-04-10T23:53:17.521765Z",
     "shell.execute_reply": "2024-04-10T23:53:17.520926Z"
    },
    "papermill": {
     "duration": 0.01637,
     "end_time": "2024-04-10T23:53:17.523982",
     "exception": false,
     "start_time": "2024-04-10T23:53:17.507612",
     "status": "completed"
    },
    "tags": []
   },
   "outputs": [],
   "source": [
    "# Lines below will give you a hint or solution code\n",
    "#q6.hint()\n",
    "#q6.solution()"
   ]
  },
  {
   "cell_type": "markdown",
   "id": "0a886bb5",
   "metadata": {
    "papermill": {
     "duration": 0.00819,
     "end_time": "2024-04-10T23:53:17.540737",
     "exception": false,
     "start_time": "2024-04-10T23:53:17.532547",
     "status": "completed"
    },
    "tags": []
   },
   "source": [
    "# More practice\n",
    "\n",
    "If you're looking for more practice handling missing values:\n",
    "\n",
    "* Check out [this noteboook](https://www.kaggle.com/alexisbcook/missing-values) on handling missing values using scikit-learn's imputer. \n",
    "* Look back at the \"Zipcode\" column in the `sf_permits` dataset, which has some missing values. How would you go about figuring out what the actual zipcode of each address should be? (You might try using another dataset. You can search for datasets about San Fransisco on the [Datasets listing](https://www.kaggle.com/datasets).) \n",
    "\n",
    "# Keep going\n",
    "\n",
    "In the next lesson, learn how to [**apply scaling and normalization**](https://www.kaggle.com/alexisbcook/scaling-and-normalization) to transform your data."
   ]
  },
  {
   "cell_type": "markdown",
   "id": "5443b0f9",
   "metadata": {
    "papermill": {
     "duration": 0.008004,
     "end_time": "2024-04-10T23:53:17.557181",
     "exception": false,
     "start_time": "2024-04-10T23:53:17.549177",
     "status": "completed"
    },
    "tags": []
   },
   "source": [
    "---\n",
    "\n",
    "\n",
    "\n",
    "\n",
    "*Have questions or comments? Visit the [course discussion forum](https://www.kaggle.com/learn/data-cleaning/discussion) to chat with other learners.*"
   ]
  }
 ],
 "metadata": {
  "kaggle": {
   "accelerator": "none",
   "dataSources": [
    {
     "datasetId": 16432,
     "sourceId": 21688,
     "sourceType": "datasetVersion"
    }
   ],
   "isGpuEnabled": false,
   "isInternetEnabled": false,
   "language": "python",
   "sourceType": "notebook"
  },
  "kernelspec": {
   "display_name": "Python 3",
   "language": "python",
   "name": "python3"
  },
  "language_info": {
   "codemirror_mode": {
    "name": "ipython",
    "version": 3
   },
   "file_extension": ".py",
   "mimetype": "text/x-python",
   "name": "python",
   "nbconvert_exporter": "python",
   "pygments_lexer": "ipython3",
   "version": "3.10.13"
  },
  "papermill": {
   "default_parameters": {},
   "duration": 14.639892,
   "end_time": "2024-04-10T23:53:18.086097",
   "environment_variables": {},
   "exception": null,
   "input_path": "__notebook__.ipynb",
   "output_path": "__notebook__.ipynb",
   "parameters": {},
   "start_time": "2024-04-10T23:53:03.446205",
   "version": "2.5.0"
  }
 },
 "nbformat": 4,
 "nbformat_minor": 5
}
