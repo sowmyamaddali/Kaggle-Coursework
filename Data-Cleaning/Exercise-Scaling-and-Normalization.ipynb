{
 "cells": [
  {
   "cell_type": "markdown",
   "id": "19568a9e",
   "metadata": {
    "papermill": {
     "duration": 0.007559,
     "end_time": "2024-04-11T18:53:55.475141",
     "exception": false,
     "start_time": "2024-04-11T18:53:55.467582",
     "status": "completed"
    },
    "tags": []
   },
   "source": [
    "**This notebook is an exercise in the [Data Cleaning](https://www.kaggle.com/learn/data-cleaning) course.  You can reference the tutorial at [this link](https://www.kaggle.com/alexisbcook/scaling-and-normalization).**\n",
    "\n",
    "---\n"
   ]
  },
  {
   "cell_type": "markdown",
   "id": "68aa10fb",
   "metadata": {
    "papermill": {
     "duration": 0.006975,
     "end_time": "2024-04-11T18:53:55.489170",
     "exception": false,
     "start_time": "2024-04-11T18:53:55.482195",
     "status": "completed"
    },
    "tags": []
   },
   "source": [
    "In this exercise, you'll apply what you learned in the **Scaling and normalization** tutorial.\n",
    "\n",
    "# Setup\n",
    "\n",
    "The questions below will give you feedback on your work. Run the following cell to set up the feedback system."
   ]
  },
  {
   "cell_type": "code",
   "execution_count": 1,
   "id": "17c51303",
   "metadata": {
    "execution": {
     "iopub.execute_input": "2024-04-11T18:53:55.506292Z",
     "iopub.status.busy": "2024-04-11T18:53:55.505436Z",
     "iopub.status.idle": "2024-04-11T18:54:01.053476Z",
     "shell.execute_reply": "2024-04-11T18:54:01.051671Z"
    },
    "papermill": {
     "duration": 5.561767,
     "end_time": "2024-04-11T18:54:01.057848",
     "exception": false,
     "start_time": "2024-04-11T18:53:55.496081",
     "status": "completed"
    },
    "tags": []
   },
   "outputs": [
    {
     "name": "stdout",
     "output_type": "stream",
     "text": [
      "Setup Complete\n"
     ]
    }
   ],
   "source": [
    "from learntools.core import binder\n",
    "binder.bind(globals())\n",
    "from learntools.data_cleaning.ex2 import *\n",
    "print(\"Setup Complete\")"
   ]
  },
  {
   "cell_type": "markdown",
   "id": "57367c56",
   "metadata": {
    "papermill": {
     "duration": 0.008879,
     "end_time": "2024-04-11T18:54:01.080032",
     "exception": false,
     "start_time": "2024-04-11T18:54:01.071153",
     "status": "completed"
    },
    "tags": []
   },
   "source": [
    "# Get our environment set up\n",
    "\n",
    "To practice scaling and normalization, we're going to use a [dataset of Kickstarter campaigns](https://www.kaggle.com/kemical/kickstarter-projects). (Kickstarter is a website where people can ask people to invest in various projects and concept products.)\n",
    "\n",
    "The next code cell loads in the libraries and dataset we'll be using. "
   ]
  },
  {
   "cell_type": "code",
   "execution_count": 2,
   "id": "f148ca7f",
   "metadata": {
    "execution": {
     "iopub.execute_input": "2024-04-11T18:54:01.105683Z",
     "iopub.status.busy": "2024-04-11T18:54:01.105064Z",
     "iopub.status.idle": "2024-04-11T18:54:03.170221Z",
     "shell.execute_reply": "2024-04-11T18:54:03.168968Z"
    },
    "papermill": {
     "duration": 2.081571,
     "end_time": "2024-04-11T18:54:03.173328",
     "exception": false,
     "start_time": "2024-04-11T18:54:01.091757",
     "status": "completed"
    },
    "tags": []
   },
   "outputs": [],
   "source": [
    "# modules we'll use\n",
    "import pandas as pd\n",
    "import numpy as np\n",
    "\n",
    "# for Box-Cox Transformation\n",
    "from scipy import stats\n",
    "\n",
    "# for min_max scaling\n",
    "from mlxtend.preprocessing import minmax_scaling\n",
    "\n",
    "# plotting modules\n",
    "import seaborn as sns\n",
    "import matplotlib.pyplot as plt\n",
    "\n",
    "# read in all our data\n",
    "kickstarters_2017 = pd.read_csv(\"../input/kickstarter-projects/ks-projects-201801.csv\")\n",
    "\n",
    "# set seed for reproducibility\n",
    "np.random.seed(0)"
   ]
  },
  {
   "cell_type": "markdown",
   "id": "93489560",
   "metadata": {
    "papermill": {
     "duration": 0.006828,
     "end_time": "2024-04-11T18:54:03.187424",
     "exception": false,
     "start_time": "2024-04-11T18:54:03.180596",
     "status": "completed"
    },
    "tags": []
   },
   "source": [
    "Let's start by scaling the goals of each campaign, which is how much money they were asking for.  After scaling, all values lie between 0 and 1."
   ]
  },
  {
   "cell_type": "code",
   "execution_count": 3,
   "id": "7056f8c2",
   "metadata": {
    "execution": {
     "iopub.execute_input": "2024-04-11T18:54:03.203676Z",
     "iopub.status.busy": "2024-04-11T18:54:03.203220Z",
     "iopub.status.idle": "2024-04-11T18:54:03.248506Z",
     "shell.execute_reply": "2024-04-11T18:54:03.245447Z"
    },
    "papermill": {
     "duration": 0.056839,
     "end_time": "2024-04-11T18:54:03.251505",
     "exception": false,
     "start_time": "2024-04-11T18:54:03.194666",
     "status": "completed"
    },
    "tags": []
   },
   "outputs": [
    {
     "name": "stdout",
     "output_type": "stream",
     "text": [
      "Original data\n",
      "Preview:\n",
      "    usd_goal_real\n",
      "0        1533.95\n",
      "1       30000.00\n",
      "2       45000.00\n",
      "3        5000.00\n",
      "4       19500.00\n",
      "Minimum value: 0.01 \n",
      "Maximum value: 166361390.71\n",
      "______________________________\n",
      "\n",
      "Scaled data\n",
      "Preview:\n",
      "    usd_goal_real\n",
      "0       0.000009\n",
      "1       0.000180\n",
      "2       0.000270\n",
      "3       0.000030\n",
      "4       0.000117\n",
      "Minimum value: 0.0 \n",
      "Maximum value: 1.0\n"
     ]
    },
    {
     "name": "stderr",
     "output_type": "stream",
     "text": [
      "/tmp/ipykernel_18/93515903.py:8: FutureWarning: Calling float on a single element Series is deprecated and will raise a TypeError in the future. Use float(ser.iloc[0]) instead\n",
      "  print('Minimum value:', float(original_data.min()),\n",
      "/tmp/ipykernel_18/93515903.py:9: FutureWarning: Calling float on a single element Series is deprecated and will raise a TypeError in the future. Use float(ser.iloc[0]) instead\n",
      "  '\\nMaximum value:', float(original_data.max()))\n",
      "/tmp/ipykernel_18/93515903.py:13: FutureWarning: Calling float on a single element Series is deprecated and will raise a TypeError in the future. Use float(ser.iloc[0]) instead\n",
      "  print('Minimum value:', float(scaled_data.min()),\n",
      "/tmp/ipykernel_18/93515903.py:14: FutureWarning: Calling float on a single element Series is deprecated and will raise a TypeError in the future. Use float(ser.iloc[0]) instead\n",
      "  '\\nMaximum value:', float(scaled_data.max()))\n"
     ]
    }
   ],
   "source": [
    "# select the usd_goal_real column\n",
    "original_data = pd.DataFrame(kickstarters_2017.usd_goal_real)\n",
    "\n",
    "# scale the goals from 0 to 1\n",
    "scaled_data = minmax_scaling(original_data, columns=['usd_goal_real'])\n",
    "\n",
    "print('Original data\\nPreview:\\n', original_data.head())\n",
    "print('Minimum value:', float(original_data.min()),\n",
    "      '\\nMaximum value:', float(original_data.max()))\n",
    "print('_'*30)\n",
    "\n",
    "print('\\nScaled data\\nPreview:\\n', scaled_data.head())\n",
    "print('Minimum value:', float(scaled_data.min()),\n",
    "      '\\nMaximum value:', float(scaled_data.max()))"
   ]
  },
  {
   "cell_type": "markdown",
   "id": "2acb133b",
   "metadata": {
    "papermill": {
     "duration": 0.006984,
     "end_time": "2024-04-11T18:54:03.265735",
     "exception": false,
     "start_time": "2024-04-11T18:54:03.258751",
     "status": "completed"
    },
    "tags": []
   },
   "source": [
    "# 1) Practice scaling\n",
    "\n",
    "We just scaled the \"usd_goal_real\" column. What about the \"goal\" column?\n",
    "\n",
    "Begin by running the code cell below to create a DataFrame `original_goal_data` containing the \"goal\" column."
   ]
  },
  {
   "cell_type": "code",
   "execution_count": 4,
   "id": "df346364",
   "metadata": {
    "execution": {
     "iopub.execute_input": "2024-04-11T18:54:03.283394Z",
     "iopub.status.busy": "2024-04-11T18:54:03.282175Z",
     "iopub.status.idle": "2024-04-11T18:54:03.290886Z",
     "shell.execute_reply": "2024-04-11T18:54:03.289406Z"
    },
    "papermill": {
     "duration": 0.02067,
     "end_time": "2024-04-11T18:54:03.293668",
     "exception": false,
     "start_time": "2024-04-11T18:54:03.272998",
     "status": "completed"
    },
    "tags": []
   },
   "outputs": [],
   "source": [
    "# select the usd_goal_real column\n",
    "original_goal_data = pd.DataFrame(kickstarters_2017.goal)"
   ]
  },
  {
   "cell_type": "markdown",
   "id": "da0785a9",
   "metadata": {
    "papermill": {
     "duration": 0.008095,
     "end_time": "2024-04-11T18:54:03.309303",
     "exception": false,
     "start_time": "2024-04-11T18:54:03.301208",
     "status": "completed"
    },
    "tags": []
   },
   "source": [
    "Use `original_goal_data` to create a new DataFrame `scaled_goal_data` with values scaled between 0 and 1. You must use the `minmax_scaling()` function."
   ]
  },
  {
   "cell_type": "code",
   "execution_count": 5,
   "id": "13fbf10a",
   "metadata": {
    "execution": {
     "iopub.execute_input": "2024-04-11T18:54:03.326098Z",
     "iopub.status.busy": "2024-04-11T18:54:03.325549Z",
     "iopub.status.idle": "2024-04-11T18:54:03.363521Z",
     "shell.execute_reply": "2024-04-11T18:54:03.362062Z"
    },
    "papermill": {
     "duration": 0.04937,
     "end_time": "2024-04-11T18:54:03.366025",
     "exception": false,
     "start_time": "2024-04-11T18:54:03.316655",
     "status": "completed"
    },
    "tags": []
   },
   "outputs": [
    {
     "data": {
      "application/javascript": [
       "parent.postMessage({\"jupyterEvent\": \"custom.exercise_interaction\", \"data\": {\"outcomeType\": 1, \"valueTowardsCompletion\": 0.3333333333333333, \"interactionType\": 1, \"questionType\": 1, \"questionId\": \"1_TryScaling\", \"learnToolsVersion\": \"0.3.4\", \"failureMessage\": \"\", \"exceptionClass\": \"\", \"trace\": \"\"}}, \"*\")"
      ],
      "text/plain": [
       "<IPython.core.display.Javascript object>"
      ]
     },
     "metadata": {},
     "output_type": "display_data"
    },
    {
     "data": {
      "text/markdown": [
       "<span style=\"color:#33cc33\">Correct</span>"
      ],
      "text/plain": [
       "Correct"
      ]
     },
     "metadata": {},
     "output_type": "display_data"
    }
   ],
   "source": [
    "# TODO: Your code here\n",
    "scaled_goal_data = minmax_scaling(original_goal_data, columns=['goal'])\n",
    "\n",
    "# Check your answer\n",
    "q1.check()"
   ]
  },
  {
   "cell_type": "code",
   "execution_count": 6,
   "id": "9dc4480d",
   "metadata": {
    "execution": {
     "iopub.execute_input": "2024-04-11T18:54:03.383966Z",
     "iopub.status.busy": "2024-04-11T18:54:03.383483Z",
     "iopub.status.idle": "2024-04-11T18:54:03.389316Z",
     "shell.execute_reply": "2024-04-11T18:54:03.387717Z"
    },
    "papermill": {
     "duration": 0.018112,
     "end_time": "2024-04-11T18:54:03.392043",
     "exception": false,
     "start_time": "2024-04-11T18:54:03.373931",
     "status": "completed"
    },
    "tags": []
   },
   "outputs": [],
   "source": [
    "# Lines below will give you a hint or solution code\n",
    "#q1.hint()\n",
    "#q1.solution()"
   ]
  },
  {
   "cell_type": "markdown",
   "id": "8d8ef502",
   "metadata": {
    "papermill": {
     "duration": 0.007422,
     "end_time": "2024-04-11T18:54:03.407365",
     "exception": false,
     "start_time": "2024-04-11T18:54:03.399943",
     "status": "completed"
    },
    "tags": []
   },
   "source": [
    "# 2) Practice normalization\n",
    "\n",
    "Now you'll practice normalization. We begin by normalizing the amount of money pledged to each campaign."
   ]
  },
  {
   "cell_type": "code",
   "execution_count": 7,
   "id": "ba639d24",
   "metadata": {
    "execution": {
     "iopub.execute_input": "2024-04-11T18:54:03.425230Z",
     "iopub.status.busy": "2024-04-11T18:54:03.424712Z",
     "iopub.status.idle": "2024-04-11T18:54:03.668333Z",
     "shell.execute_reply": "2024-04-11T18:54:03.666593Z"
    },
    "papermill": {
     "duration": 0.25633,
     "end_time": "2024-04-11T18:54:03.671340",
     "exception": false,
     "start_time": "2024-04-11T18:54:03.415010",
     "status": "completed"
    },
    "tags": []
   },
   "outputs": [
    {
     "name": "stdout",
     "output_type": "stream",
     "text": [
      "Original data\n",
      "Preview:\n",
      " 1     2421.0\n",
      "2      220.0\n",
      "3        1.0\n",
      "4     1283.0\n",
      "5    52375.0\n",
      "Name: usd_pledged_real, dtype: float64\n",
      "Minimum value: 0.45 \n",
      "Maximum value: 20338986.27\n",
      "______________________________\n",
      "\n",
      "Normalized data\n",
      "Preview:\n",
      " 1    10.165142\n",
      "2     6.468598\n",
      "3     0.000000\n",
      "4     9.129277\n",
      "5    15.836853\n",
      "Name: usd_pledged_real, dtype: float64\n",
      "Minimum value: -0.7779954122762203 \n",
      "Maximum value: 30.69054020451361\n"
     ]
    }
   ],
   "source": [
    "# get the index of all positive pledges (Box-Cox only takes positive values)\n",
    "index_of_positive_pledges = kickstarters_2017.usd_pledged_real > 0\n",
    "\n",
    "# get only positive pledges (using their indexes)\n",
    "positive_pledges = kickstarters_2017.usd_pledged_real.loc[index_of_positive_pledges]\n",
    "\n",
    "# normalize the pledges (w/ Box-Cox)\n",
    "normalized_pledges = pd.Series(stats.boxcox(positive_pledges)[0], \n",
    "                               name='usd_pledged_real', index=positive_pledges.index)\n",
    "\n",
    "print('Original data\\nPreview:\\n', positive_pledges.head())\n",
    "print('Minimum value:', float(positive_pledges.min()),\n",
    "      '\\nMaximum value:', float(positive_pledges.max()))\n",
    "print('_'*30)\n",
    "\n",
    "print('\\nNormalized data\\nPreview:\\n', normalized_pledges.head())\n",
    "print('Minimum value:', float(normalized_pledges.min()),\n",
    "      '\\nMaximum value:', float(normalized_pledges.max()))"
   ]
  },
  {
   "cell_type": "markdown",
   "id": "aa5b5bb2",
   "metadata": {
    "papermill": {
     "duration": 0.007384,
     "end_time": "2024-04-11T18:54:03.686596",
     "exception": false,
     "start_time": "2024-04-11T18:54:03.679212",
     "status": "completed"
    },
    "tags": []
   },
   "source": [
    "The values have changed significantly with normalization!\n",
    "\n",
    "In the next code cell, you'll take a look at the distribution of the normalized data, where it should now resemble a normal distribution."
   ]
  },
  {
   "cell_type": "code",
   "execution_count": 8,
   "id": "3ef4f904",
   "metadata": {
    "execution": {
     "iopub.execute_input": "2024-04-11T18:54:03.704807Z",
     "iopub.status.busy": "2024-04-11T18:54:03.703890Z",
     "iopub.status.idle": "2024-04-11T18:54:06.088133Z",
     "shell.execute_reply": "2024-04-11T18:54:06.087184Z"
    },
    "papermill": {
     "duration": 2.396642,
     "end_time": "2024-04-11T18:54:06.090958",
     "exception": false,
     "start_time": "2024-04-11T18:54:03.694316",
     "status": "completed"
    },
    "tags": []
   },
   "outputs": [
    {
     "name": "stderr",
     "output_type": "stream",
     "text": [
      "/opt/conda/lib/python3.10/site-packages/seaborn/_oldcore.py:1119: FutureWarning: use_inf_as_na option is deprecated and will be removed in a future version. Convert inf values to NaN before operating instead.\n",
      "  with pd.option_context('mode.use_inf_as_na', True):\n"
     ]
    },
    {
     "data": {
      "image/png": "[encoded data removed]",
      "text/plain": [
       "<Figure size 640x480 with 1 Axes>"
      ]
     },
     "metadata": {},
     "output_type": "display_data"
    }
   ],
   "source": [
    "# plot normalized data\n",
    "ax = sns.histplot(normalized_pledges, kde=True)\n",
    "ax.set_title(\"Normalized data\")\n",
    "plt.show()"
   ]
  },
  {
   "cell_type": "markdown",
   "id": "7ce951e2",
   "metadata": {
    "papermill": {
     "duration": 0.009639,
     "end_time": "2024-04-11T18:54:06.110143",
     "exception": false,
     "start_time": "2024-04-11T18:54:06.100504",
     "status": "completed"
    },
    "tags": []
   },
   "source": [
    "We used the \"usd_pledged_real\" column. Follow the same process to normalize the \"pledged\" column. "
   ]
  },
  {
   "cell_type": "code",
   "execution_count": 9,
   "id": "24746318",
   "metadata": {
    "execution": {
     "iopub.execute_input": "2024-04-11T18:54:06.131924Z",
     "iopub.status.busy": "2024-04-11T18:54:06.130493Z",
     "iopub.status.idle": "2024-04-11T18:54:08.770732Z",
     "shell.execute_reply": "2024-04-11T18:54:08.769588Z"
    },
    "papermill": {
     "duration": 2.654253,
     "end_time": "2024-04-11T18:54:08.773934",
     "exception": false,
     "start_time": "2024-04-11T18:54:06.119681",
     "status": "completed"
    },
    "tags": []
   },
   "outputs": [
    {
     "name": "stderr",
     "output_type": "stream",
     "text": [
      "/opt/conda/lib/python3.10/site-packages/seaborn/_oldcore.py:1119: FutureWarning: use_inf_as_na option is deprecated and will be removed in a future version. Convert inf values to NaN before operating instead.\n",
      "  with pd.option_context('mode.use_inf_as_na', True):\n"
     ]
    },
    {
     "data": {
      "image/png": "[encoded data removed]",
      "text/plain": [
       "<Figure size 640x480 with 1 Axes>"
      ]
     },
     "metadata": {},
     "output_type": "display_data"
    }
   ],
   "source": [
    "# TODO: Your code here!\n",
    "# get the index of all positive pledges (Box-Cox only takes positive values)\n",
    "index_of_positive_pledges = kickstarters_2017.pledged > 0\n",
    "\n",
    "# get only positive pledges (using their indexes)\n",
    "positive_pledges = kickstarters_2017.pledged.loc[index_of_positive_pledges]\n",
    "\n",
    "# normalize the pledges (w/ Box-Cox)\n",
    "normalized_pledges = pd.Series(stats.boxcox(positive_pledges)[0], \n",
    "                               name='usd_pledged_real', index=positive_pledges.index)\n",
    "\n",
    "# plot normalized data\n",
    "ax = sns.histplot(normalized_pledges, kde=True)\n",
    "ax.set_title(\"Normalized data\")\n",
    "plt.show()"
   ]
  },
  {
   "cell_type": "markdown",
   "id": "e8563a1d",
   "metadata": {
    "papermill": {
     "duration": 0.009072,
     "end_time": "2024-04-11T18:54:08.792390",
     "exception": false,
     "start_time": "2024-04-11T18:54:08.783318",
     "status": "completed"
    },
    "tags": []
   },
   "source": [
    "How does the normalized \"usd_pledged_real\" column look different from when we normalized the \"pledged\" column?  Or, do they look mostly the same?\n",
    "\n",
    "Once you have an answer, run the code cell below."
   ]
  },
  {
   "cell_type": "code",
   "execution_count": 10,
   "id": "8504402f",
   "metadata": {
    "execution": {
     "iopub.execute_input": "2024-04-11T18:54:08.812987Z",
     "iopub.status.busy": "2024-04-11T18:54:08.812342Z",
     "iopub.status.idle": "2024-04-11T18:54:08.824043Z",
     "shell.execute_reply": "2024-04-11T18:54:08.822794Z"
    },
    "papermill": {
     "duration": 0.025056,
     "end_time": "2024-04-11T18:54:08.826576",
     "exception": false,
     "start_time": "2024-04-11T18:54:08.801520",
     "status": "completed"
    },
    "tags": []
   },
   "outputs": [
    {
     "data": {
      "application/javascript": [
       "parent.postMessage({\"jupyterEvent\": \"custom.exercise_interaction\", \"data\": {\"outcomeType\": 1, \"valueTowardsCompletion\": 0.3333333333333333, \"interactionType\": 1, \"questionType\": 4, \"questionId\": \"2_TryNormalization\", \"learnToolsVersion\": \"0.3.4\", \"failureMessage\": \"\", \"exceptionClass\": \"\", \"trace\": \"\"}}, \"*\")"
      ],
      "text/plain": [
       "<IPython.core.display.Javascript object>"
      ]
     },
     "metadata": {},
     "output_type": "display_data"
    },
    {
     "data": {
      "text/markdown": [
       "<span style=\"color:#33cc33\">Correct:</span> \n",
       "\n",
       "The distributions in the normalized data look mostly the same."
      ],
      "text/plain": [
       "Correct: \n",
       "\n",
       "The distributions in the normalized data look mostly the same."
      ]
     },
     "metadata": {},
     "output_type": "display_data"
    }
   ],
   "source": [
    "# Check your answer (Run this code cell to receive credit!)\n",
    "q2.check()"
   ]
  },
  {
   "cell_type": "code",
   "execution_count": 11,
   "id": "4ba25b62",
   "metadata": {
    "execution": {
     "iopub.execute_input": "2024-04-11T18:54:08.847947Z",
     "iopub.status.busy": "2024-04-11T18:54:08.847519Z",
     "iopub.status.idle": "2024-04-11T18:54:08.852359Z",
     "shell.execute_reply": "2024-04-11T18:54:08.851101Z"
    },
    "papermill": {
     "duration": 0.018143,
     "end_time": "2024-04-11T18:54:08.854568",
     "exception": false,
     "start_time": "2024-04-11T18:54:08.836425",
     "status": "completed"
    },
    "tags": []
   },
   "outputs": [],
   "source": [
    "# Line below will give you a hint\n",
    "#q2.hint()"
   ]
  },
  {
   "cell_type": "markdown",
   "id": "3c9f8c3b",
   "metadata": {
    "papermill": {
     "duration": 0.00926,
     "end_time": "2024-04-11T18:54:08.873429",
     "exception": false,
     "start_time": "2024-04-11T18:54:08.864169",
     "status": "completed"
    },
    "tags": []
   },
   "source": [
    "# (Optional) More practice\n",
    "\n",
    "Try finding a new dataset and pretend you're preparing to perform a [regression analysis](https://www.kaggle.com/rtatman/the-5-day-regression-challenge). \n",
    "\n",
    "[These datasets are a good start!](https://www.kaggle.com/rtatman/datasets-for-regression-analysis)\n",
    "\n",
    "Pick three or four variables and decide if you need to normalize or scale any of them and, if you think you should, practice applying the correct technique.\n",
    "\n",
    "# Keep going\n",
    "\n",
    "In the next lesson, learn how to [**parse dates**](https://www.kaggle.com/alexisbcook/parsing-dates) in a dataset."
   ]
  },
  {
   "cell_type": "markdown",
   "id": "bad404b6",
   "metadata": {
    "papermill": {
     "duration": 0.009194,
     "end_time": "2024-04-11T18:54:08.892267",
     "exception": false,
     "start_time": "2024-04-11T18:54:08.883073",
     "status": "completed"
    },
    "tags": []
   },
   "source": [
    "---\n",
    "\n",
    "\n",
    "\n",
    "\n",
    "*Have questions or comments? Visit the [course discussion forum](https://www.kaggle.com/learn/data-cleaning/discussion) to chat with other learners.*"
   ]
  }
 ],
 "metadata": {
  "kaggle": {
   "accelerator": "none",
   "dataSources": [
    {
     "datasetId": 4104,
     "sourceId": 16930,
     "sourceType": "datasetVersion"
    }
   ],
   "isGpuEnabled": false,
   "isInternetEnabled": false,
   "language": "python",
   "sourceType": "notebook"
  },
  "kernelspec": {
   "display_name": "Python 3",
   "language": "python",
   "name": "python3"
  },
  "language_info": {
   "codemirror_mode": {
    "name": "ipython",
    "version": 3
   },
   "file_extension": ".py",
   "mimetype": "text/x-python",
   "name": "python",
   "nbconvert_exporter": "python",
   "pygments_lexer": "ipython3",
   "version": "3.10.13"
  },
  "papermill": {
   "default_parameters": {},
   "duration": 17.31012,
   "end_time": "2024-04-11T18:54:09.723858",
   "environment_variables": {},
   "exception": null,
   "input_path": "__notebook__.ipynb",
   "output_path": "__notebook__.ipynb",
   "parameters": {},
   "start_time": "2024-04-11T18:53:52.413738",
   "version": "2.5.0"
  }
 },
 "nbformat": 4,
 "nbformat_minor": 5
}
