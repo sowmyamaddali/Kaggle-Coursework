{
 "cells": [
  {
   "cell_type": "markdown",
   "id": "8af0a3e5",
   "metadata": {
    "papermill": {
     "duration": 0.006593,
     "end_time": "2024-04-11T19:26:17.289806",
     "exception": false,
     "start_time": "2024-04-11T19:26:17.283213",
     "status": "completed"
    },
    "tags": []
   },
   "source": [
    "**This notebook is an exercise in the [Data Cleaning](https://www.kaggle.com/learn/data-cleaning) course.  You can reference the tutorial at [this link](https://www.kaggle.com/alexisbcook/character-encodings).**\n",
    "\n",
    "---\n"
   ]
  },
  {
   "cell_type": "markdown",
   "id": "be84ab4b",
   "metadata": {
    "papermill": {
     "duration": 0.005908,
     "end_time": "2024-04-11T19:26:17.302069",
     "exception": false,
     "start_time": "2024-04-11T19:26:17.296161",
     "status": "completed"
    },
    "tags": []
   },
   "source": [
    "In this exercise, you'll apply what you learned in the **Character encodings** tutorial.\n",
    "\n",
    "# Setup\n",
    "\n",
    "The questions below will give you feedback on your work. Run the following cell to set up the feedback system."
   ]
  },
  {
   "cell_type": "code",
   "execution_count": 1,
   "id": "9af82e11",
   "metadata": {
    "execution": {
     "iopub.execute_input": "2024-04-11T19:26:17.316290Z",
     "iopub.status.busy": "2024-04-11T19:26:17.315845Z",
     "iopub.status.idle": "2024-04-11T19:26:18.459899Z",
     "shell.execute_reply": "2024-04-11T19:26:18.458445Z"
    },
    "papermill": {
     "duration": 1.15452,
     "end_time": "2024-04-11T19:26:18.462782",
     "exception": false,
     "start_time": "2024-04-11T19:26:17.308262",
     "status": "completed"
    },
    "tags": []
   },
   "outputs": [
    {
     "name": "stdout",
     "output_type": "stream",
     "text": [
      "Setup Complete\n"
     ]
    }
   ],
   "source": [
    "from learntools.core import binder\n",
    "binder.bind(globals())\n",
    "from learntools.data_cleaning.ex4 import *\n",
    "print(\"Setup Complete\")"
   ]
  },
  {
   "cell_type": "markdown",
   "id": "c68862db",
   "metadata": {
    "papermill": {
     "duration": 0.006233,
     "end_time": "2024-04-11T19:26:18.475621",
     "exception": false,
     "start_time": "2024-04-11T19:26:18.469388",
     "status": "completed"
    },
    "tags": []
   },
   "source": [
    "# Get our environment set up\n",
    "\n",
    "The first thing we'll need to do is load in the libraries we'll be using."
   ]
  },
  {
   "cell_type": "code",
   "execution_count": 2,
   "id": "9413a516",
   "metadata": {
    "execution": {
     "iopub.execute_input": "2024-04-11T19:26:18.490098Z",
     "iopub.status.busy": "2024-04-11T19:26:18.489707Z",
     "iopub.status.idle": "2024-04-11T19:26:18.495657Z",
     "shell.execute_reply": "2024-04-11T19:26:18.494246Z"
    },
    "papermill": {
     "duration": 0.016101,
     "end_time": "2024-04-11T19:26:18.497930",
     "exception": false,
     "start_time": "2024-04-11T19:26:18.481829",
     "status": "completed"
    },
    "tags": []
   },
   "outputs": [],
   "source": [
    "# modules we'll use\n",
    "import pandas as pd\n",
    "import numpy as np\n",
    "\n",
    "# helpful character encoding module\n",
    "import charset_normalizer\n",
    "\n",
    "# set seed for reproducibility\n",
    "np.random.seed(0)"
   ]
  },
  {
   "cell_type": "markdown",
   "id": "9a4371ec",
   "metadata": {
    "papermill": {
     "duration": 0.005961,
     "end_time": "2024-04-11T19:26:18.510183",
     "exception": false,
     "start_time": "2024-04-11T19:26:18.504222",
     "status": "completed"
    },
    "tags": []
   },
   "source": [
    "# 1) What are encodings?\n",
    "\n",
    "You're working with a dataset composed of bytes.  Run the code cell below to print a sample entry."
   ]
  },
  {
   "cell_type": "code",
   "execution_count": 3,
   "id": "c6c246bd",
   "metadata": {
    "execution": {
     "iopub.execute_input": "2024-04-11T19:26:18.524523Z",
     "iopub.status.busy": "2024-04-11T19:26:18.524088Z",
     "iopub.status.idle": "2024-04-11T19:26:18.529787Z",
     "shell.execute_reply": "2024-04-11T19:26:18.528534Z"
    },
    "papermill": {
     "duration": 0.016086,
     "end_time": "2024-04-11T19:26:18.532420",
     "exception": false,
     "start_time": "2024-04-11T19:26:18.516334",
     "status": "completed"
    },
    "tags": []
   },
   "outputs": [
    {
     "name": "stdout",
     "output_type": "stream",
     "text": [
      "b'\\xa7A\\xa6n'\n",
      "data type: <class 'bytes'>\n"
     ]
    }
   ],
   "source": [
    "sample_entry = b'\\xa7A\\xa6n'\n",
    "print(sample_entry)\n",
    "print('data type:', type(sample_entry))"
   ]
  },
  {
   "cell_type": "markdown",
   "id": "4428a81d",
   "metadata": {
    "papermill": {
     "duration": 0.005988,
     "end_time": "2024-04-11T19:26:18.544816",
     "exception": false,
     "start_time": "2024-04-11T19:26:18.538828",
     "status": "completed"
    },
    "tags": []
   },
   "source": [
    "You notice that it doesn't use the standard UTF-8 encoding. \n",
    "\n",
    "Use the next code cell to create a variable `new_entry` that changes the encoding from `\"big5-tw\"` to `\"utf-8\"`.  `new_entry` should have the bytes datatype."
   ]
  },
  {
   "cell_type": "code",
   "execution_count": 4,
   "id": "649a4e08",
   "metadata": {
    "execution": {
     "iopub.execute_input": "2024-04-11T19:26:18.559030Z",
     "iopub.status.busy": "2024-04-11T19:26:18.558667Z",
     "iopub.status.idle": "2024-04-11T19:26:18.569381Z",
     "shell.execute_reply": "2024-04-11T19:26:18.568377Z"
    },
    "papermill": {
     "duration": 0.020714,
     "end_time": "2024-04-11T19:26:18.571728",
     "exception": false,
     "start_time": "2024-04-11T19:26:18.551014",
     "status": "completed"
    },
    "tags": []
   },
   "outputs": [
    {
     "data": {
      "application/javascript": [
       "parent.postMessage({\"jupyterEvent\": \"custom.exercise_interaction\", \"data\": {\"outcomeType\": 1, \"valueTowardsCompletion\": 0.3333333333333333, \"interactionType\": 1, \"questionType\": 1, \"questionId\": \"1_EncodingsIntro\", \"learnToolsVersion\": \"0.3.4\", \"failureMessage\": \"\", \"exceptionClass\": \"\", \"trace\": \"\"}}, \"*\")"
      ],
      "text/plain": [
       "<IPython.core.display.Javascript object>"
      ]
     },
     "metadata": {},
     "output_type": "display_data"
    },
    {
     "data": {
      "text/markdown": [
       "<span style=\"color:#33cc33\">Correct</span>"
      ],
      "text/plain": [
       "Correct"
      ]
     },
     "metadata": {},
     "output_type": "display_data"
    }
   ],
   "source": [
    "before = sample_entry.decode(\"big5-tw\")\n",
    "new_entry = before.encode()\n",
    "\n",
    "# Check your answer\n",
    "q1.check()"
   ]
  },
  {
   "cell_type": "code",
   "execution_count": 5,
   "id": "a3b98b5c",
   "metadata": {
    "execution": {
     "iopub.execute_input": "2024-04-11T19:26:18.586855Z",
     "iopub.status.busy": "2024-04-11T19:26:18.586499Z",
     "iopub.status.idle": "2024-04-11T19:26:18.591611Z",
     "shell.execute_reply": "2024-04-11T19:26:18.590449Z"
    },
    "papermill": {
     "duration": 0.015925,
     "end_time": "2024-04-11T19:26:18.594160",
     "exception": false,
     "start_time": "2024-04-11T19:26:18.578235",
     "status": "completed"
    },
    "tags": []
   },
   "outputs": [],
   "source": [
    "# Lines below will give you a hint or solution code\n",
    "#q1.hint()\n",
    "#q1.solution()"
   ]
  },
  {
   "cell_type": "markdown",
   "id": "36286794",
   "metadata": {
    "papermill": {
     "duration": 0.006425,
     "end_time": "2024-04-11T19:26:18.607395",
     "exception": false,
     "start_time": "2024-04-11T19:26:18.600970",
     "status": "completed"
    },
    "tags": []
   },
   "source": [
    "# 2) Reading in files with encoding problems\n",
    "\n",
    "Use the code cell below to read in this file at path `\"../input/fatal-police-shootings-in-the-us/PoliceKillingsUS.csv\"`.  \n",
    "\n",
    "Figure out what the correct encoding should be and read in the file to a DataFrame `police_killings`."
   ]
  },
  {
   "cell_type": "code",
   "execution_count": 6,
   "id": "2813c8a9",
   "metadata": {
    "execution": {
     "iopub.execute_input": "2024-04-11T19:26:18.622359Z",
     "iopub.status.busy": "2024-04-11T19:26:18.621995Z",
     "iopub.status.idle": "2024-04-11T19:26:18.649609Z",
     "shell.execute_reply": "2024-04-11T19:26:18.648392Z"
    },
    "papermill": {
     "duration": 0.038017,
     "end_time": "2024-04-11T19:26:18.652068",
     "exception": false,
     "start_time": "2024-04-11T19:26:18.614051",
     "status": "completed"
    },
    "tags": []
   },
   "outputs": [
    {
     "data": {
      "application/javascript": [
       "parent.postMessage({\"jupyterEvent\": \"custom.exercise_interaction\", \"data\": {\"outcomeType\": 1, \"valueTowardsCompletion\": 0.3333333333333333, \"interactionType\": 1, \"questionType\": 1, \"questionId\": \"2_ReadIn\", \"learnToolsVersion\": \"0.3.4\", \"failureMessage\": \"\", \"exceptionClass\": \"\", \"trace\": \"\"}}, \"*\")"
      ],
      "text/plain": [
       "<IPython.core.display.Javascript object>"
      ]
     },
     "metadata": {},
     "output_type": "display_data"
    },
    {
     "data": {
      "text/markdown": [
       "<span style=\"color:#33cc33\">Correct</span>"
      ],
      "text/plain": [
       "Correct"
      ]
     },
     "metadata": {},
     "output_type": "display_data"
    }
   ],
   "source": [
    "# TODO: Load in the DataFrame correctly.\n",
    "police_killings = pd.read_csv(\"../input/fatal-police-shootings-in-the-us/PoliceKillingsUS.csv\",\n",
    "                             encoding='Windows-1252')\n",
    "\n",
    "\n",
    "# Check your answer\n",
    "q2.check()"
   ]
  },
  {
   "cell_type": "markdown",
   "id": "212dcd4d",
   "metadata": {
    "papermill": {
     "duration": 0.007075,
     "end_time": "2024-04-11T19:26:18.667292",
     "exception": false,
     "start_time": "2024-04-11T19:26:18.660217",
     "status": "completed"
    },
    "tags": []
   },
   "source": [
    "Feel free to use any additional code cells for supplemental work.  To get credit for finishing this question, you'll need to run `q2.check()` and get a result of **Correct**."
   ]
  },
  {
   "cell_type": "code",
   "execution_count": 7,
   "id": "40a8489c",
   "metadata": {
    "execution": {
     "iopub.execute_input": "2024-04-11T19:26:18.683547Z",
     "iopub.status.busy": "2024-04-11T19:26:18.683144Z",
     "iopub.status.idle": "2024-04-11T19:26:18.688225Z",
     "shell.execute_reply": "2024-04-11T19:26:18.687123Z"
    },
    "papermill": {
     "duration": 0.016167,
     "end_time": "2024-04-11T19:26:18.690670",
     "exception": false,
     "start_time": "2024-04-11T19:26:18.674503",
     "status": "completed"
    },
    "tags": []
   },
   "outputs": [],
   "source": [
    "# (Optional) Use this code cell for any additional work."
   ]
  },
  {
   "cell_type": "code",
   "execution_count": 8,
   "id": "709ac4af",
   "metadata": {
    "execution": {
     "iopub.execute_input": "2024-04-11T19:26:18.710963Z",
     "iopub.status.busy": "2024-04-11T19:26:18.710374Z",
     "iopub.status.idle": "2024-04-11T19:26:18.715489Z",
     "shell.execute_reply": "2024-04-11T19:26:18.714622Z"
    },
    "papermill": {
     "duration": 0.019403,
     "end_time": "2024-04-11T19:26:18.718421",
     "exception": false,
     "start_time": "2024-04-11T19:26:18.699018",
     "status": "completed"
    },
    "tags": []
   },
   "outputs": [],
   "source": [
    "# Lines below will give you a hint or solution code\n",
    "#q2.hint()\n",
    "#q2.solution()"
   ]
  },
  {
   "cell_type": "markdown",
   "id": "cfd6d390",
   "metadata": {
    "papermill": {
     "duration": 0.010018,
     "end_time": "2024-04-11T19:26:18.738436",
     "exception": false,
     "start_time": "2024-04-11T19:26:18.728418",
     "status": "completed"
    },
    "tags": []
   },
   "source": [
    "# 3) Saving your files with UTF-8 encoding\n",
    "\n",
    "Save a version of the police killings dataset to CSV with UTF-8 encoding.  Your answer will be marked correct after saving this file.  \n",
    "\n",
    "Note: When using the `to_csv()` method, supply only the name of the file (e.g., `\"my_file.csv\"`).  This saves the file at the filepath `\"/kaggle/working/my_file.csv\"`."
   ]
  },
  {
   "cell_type": "code",
   "execution_count": 9,
   "id": "448f0186",
   "metadata": {
    "execution": {
     "iopub.execute_input": "2024-04-11T19:26:18.761584Z",
     "iopub.status.busy": "2024-04-11T19:26:18.761165Z",
     "iopub.status.idle": "2024-04-11T19:26:18.825886Z",
     "shell.execute_reply": "2024-04-11T19:26:18.824628Z"
    },
    "papermill": {
     "duration": 0.078683,
     "end_time": "2024-04-11T19:26:18.828504",
     "exception": false,
     "start_time": "2024-04-11T19:26:18.749821",
     "status": "completed"
    },
    "tags": []
   },
   "outputs": [
    {
     "data": {
      "application/javascript": [
       "parent.postMessage({\"jupyterEvent\": \"custom.exercise_interaction\", \"data\": {\"outcomeType\": 1, \"valueTowardsCompletion\": 0.3333333333333333, \"interactionType\": 1, \"questionType\": 2, \"questionId\": \"3_SaveCSV\", \"learnToolsVersion\": \"0.3.4\", \"failureMessage\": \"\", \"exceptionClass\": \"\", \"trace\": \"\"}}, \"*\")"
      ],
      "text/plain": [
       "<IPython.core.display.Javascript object>"
      ]
     },
     "metadata": {},
     "output_type": "display_data"
    },
    {
     "data": {
      "text/markdown": [
       "<span style=\"color:#33cc33\">Correct</span>"
      ],
      "text/plain": [
       "Correct"
      ]
     },
     "metadata": {},
     "output_type": "display_data"
    }
   ],
   "source": [
    "# TODO: Save the police killings dataset to CSV\n",
    "police_killings.to_csv('PoliceKillingsUS.csv')\n",
    "\n",
    "# Check your answer\n",
    "q3.check()"
   ]
  },
  {
   "cell_type": "code",
   "execution_count": 10,
   "id": "3ed06001",
   "metadata": {
    "execution": {
     "iopub.execute_input": "2024-04-11T19:26:18.845442Z",
     "iopub.status.busy": "2024-04-11T19:26:18.845077Z",
     "iopub.status.idle": "2024-04-11T19:26:18.850283Z",
     "shell.execute_reply": "2024-04-11T19:26:18.849101Z"
    },
    "papermill": {
     "duration": 0.016603,
     "end_time": "2024-04-11T19:26:18.852909",
     "exception": false,
     "start_time": "2024-04-11T19:26:18.836306",
     "status": "completed"
    },
    "tags": []
   },
   "outputs": [],
   "source": [
    "# Lines below will give you a hint or solution code\n",
    "#q3.hint()\n",
    "#q3.solution()"
   ]
  },
  {
   "cell_type": "markdown",
   "id": "8f2e5fad",
   "metadata": {
    "papermill": {
     "duration": 0.009911,
     "end_time": "2024-04-11T19:26:18.871175",
     "exception": false,
     "start_time": "2024-04-11T19:26:18.861264",
     "status": "completed"
    },
    "tags": []
   },
   "source": [
    "# (Optional) More practice\n",
    "\n",
    "Check out [this dataset of files in different character encodings](https://www.kaggle.com/rtatman/character-encoding-examples). Can you read in all the files with their original encodings and them save them out as UTF-8 files?\n",
    "\n",
    "If you have a file that's in UTF-8 but has just a couple of weird-looking characters in it, you can try out the [ftfy module](https://ftfy.readthedocs.io/en/latest/#) and see if it helps. \n",
    "\n",
    "# Keep going\n",
    "\n",
    "In the final lesson, learn how to [**clean up inconsistent text entries**](https://www.kaggle.com/alexisbcook/inconsistent-data-entry) in your dataset."
   ]
  },
  {
   "cell_type": "markdown",
   "id": "dc12b411",
   "metadata": {
    "papermill": {
     "duration": 0.010078,
     "end_time": "2024-04-11T19:26:18.892489",
     "exception": false,
     "start_time": "2024-04-11T19:26:18.882411",
     "status": "completed"
    },
    "tags": []
   },
   "source": [
    "---\n",
    "\n",
    "\n",
    "\n",
    "\n",
    "*Have questions or comments? Visit the [course discussion forum](https://www.kaggle.com/learn/data-cleaning/discussion) to chat with other learners.*"
   ]
  }
 ],
 "metadata": {
  "kaggle": {
   "accelerator": "none",
   "dataSources": [
    {
     "datasetId": 2647,
     "sourceId": 4395,
     "sourceType": "datasetVersion"
    }
   ],
   "isGpuEnabled": false,
   "isInternetEnabled": false,
   "language": "python",
   "sourceType": "notebook"
  },
  "kernelspec": {
   "display_name": "Python 3",
   "language": "python",
   "name": "python3"
  },
  "language_info": {
   "codemirror_mode": {
    "name": "ipython",
    "version": 3
   },
   "file_extension": ".py",
   "mimetype": "text/x-python",
   "name": "python",
   "nbconvert_exporter": "python",
   "pygments_lexer": "ipython3",
   "version": "3.10.13"
  },
  "papermill": {
   "default_parameters": {},
   "duration": 8.183927,
   "end_time": "2024-04-11T19:26:22.267378",
   "environment_variables": {},
   "exception": null,
   "input_path": "__notebook__.ipynb",
   "output_path": "__notebook__.ipynb",
   "parameters": {},
   "start_time": "2024-04-11T19:26:14.083451",
   "version": "2.5.0"
  }
 },
 "nbformat": 4,
 "nbformat_minor": 5
}
